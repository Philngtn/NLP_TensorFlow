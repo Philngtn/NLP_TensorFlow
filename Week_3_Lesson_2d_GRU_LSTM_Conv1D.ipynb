{
  "nbformat": 4,
  "nbformat_minor": 0,
  "metadata": {
    "accelerator": "GPU",
    "colab": {
      "name": " Week 3 - Lesson 2d - GRU - LSTM - Conv1D.ipynb",
      "provenance": [],
      "collapsed_sections": [],
      "toc_visible": true,
      "include_colab_link": true
    },
    "kernelspec": {
      "display_name": "Python 3",
      "name": "python3"
    },
    "widgets": {
      "application/vnd.jupyter.widget-state+json": {
        "0b0811b97c464848ad404224129cd772": {
          "model_module": "@jupyter-widgets/controls",
          "model_name": "HBoxModel",
          "state": {
            "_view_name": "HBoxView",
            "_dom_classes": [],
            "_model_name": "HBoxModel",
            "_view_module": "@jupyter-widgets/controls",
            "_model_module_version": "1.5.0",
            "_view_count": null,
            "_view_module_version": "1.5.0",
            "box_style": "",
            "layout": "IPY_MODEL_f81e392ae7794bad9d4e044754559cf1",
            "_model_module": "@jupyter-widgets/controls",
            "children": [
              "IPY_MODEL_9a7bba92fc4f49d0876a60637659417f",
              "IPY_MODEL_77bda1fb63e54e01aebf02f5ef85a009"
            ]
          }
        },
        "f81e392ae7794bad9d4e044754559cf1": {
          "model_module": "@jupyter-widgets/base",
          "model_name": "LayoutModel",
          "state": {
            "_view_name": "LayoutView",
            "grid_template_rows": null,
            "right": null,
            "justify_content": null,
            "_view_module": "@jupyter-widgets/base",
            "overflow": null,
            "_model_module_version": "1.2.0",
            "_view_count": null,
            "flex_flow": null,
            "width": null,
            "min_width": null,
            "border": null,
            "align_items": null,
            "bottom": null,
            "_model_module": "@jupyter-widgets/base",
            "top": null,
            "grid_column": null,
            "overflow_y": null,
            "overflow_x": null,
            "grid_auto_flow": null,
            "grid_area": null,
            "grid_template_columns": null,
            "flex": null,
            "_model_name": "LayoutModel",
            "justify_items": null,
            "grid_row": null,
            "max_height": null,
            "align_content": null,
            "visibility": null,
            "align_self": null,
            "height": null,
            "min_height": null,
            "padding": null,
            "grid_auto_rows": null,
            "grid_gap": null,
            "max_width": null,
            "order": null,
            "_view_module_version": "1.2.0",
            "grid_template_areas": null,
            "object_position": null,
            "object_fit": null,
            "grid_auto_columns": null,
            "margin": null,
            "display": null,
            "left": null
          }
        },
        "9a7bba92fc4f49d0876a60637659417f": {
          "model_module": "@jupyter-widgets/controls",
          "model_name": "FloatProgressModel",
          "state": {
            "_view_name": "ProgressView",
            "style": "IPY_MODEL_70dae3d60bfb4fff8b1b7c86986292e0",
            "_dom_classes": [],
            "description": "Dl Completed...: 100%",
            "_model_name": "FloatProgressModel",
            "bar_style": "success",
            "max": 1,
            "_view_module": "@jupyter-widgets/controls",
            "_model_module_version": "1.5.0",
            "value": 1,
            "_view_count": null,
            "_view_module_version": "1.5.0",
            "orientation": "horizontal",
            "min": 0,
            "description_tooltip": null,
            "_model_module": "@jupyter-widgets/controls",
            "layout": "IPY_MODEL_509078e34c674b9888334d2578f727bd"
          }
        },
        "77bda1fb63e54e01aebf02f5ef85a009": {
          "model_module": "@jupyter-widgets/controls",
          "model_name": "HTMLModel",
          "state": {
            "_view_name": "HTMLView",
            "style": "IPY_MODEL_98535fdc5c794e80b5c76af1b615c183",
            "_dom_classes": [],
            "description": "",
            "_model_name": "HTMLModel",
            "placeholder": "​",
            "_view_module": "@jupyter-widgets/controls",
            "_model_module_version": "1.5.0",
            "value": " 1/1 [00:01&lt;00:00,  1.57s/ url]",
            "_view_count": null,
            "_view_module_version": "1.5.0",
            "description_tooltip": null,
            "_model_module": "@jupyter-widgets/controls",
            "layout": "IPY_MODEL_40999c43beb540e4b042549afe433c08"
          }
        },
        "70dae3d60bfb4fff8b1b7c86986292e0": {
          "model_module": "@jupyter-widgets/controls",
          "model_name": "ProgressStyleModel",
          "state": {
            "_view_name": "StyleView",
            "_model_name": "ProgressStyleModel",
            "description_width": "initial",
            "_view_module": "@jupyter-widgets/base",
            "_model_module_version": "1.5.0",
            "_view_count": null,
            "_view_module_version": "1.2.0",
            "bar_color": null,
            "_model_module": "@jupyter-widgets/controls"
          }
        },
        "509078e34c674b9888334d2578f727bd": {
          "model_module": "@jupyter-widgets/base",
          "model_name": "LayoutModel",
          "state": {
            "_view_name": "LayoutView",
            "grid_template_rows": null,
            "right": null,
            "justify_content": null,
            "_view_module": "@jupyter-widgets/base",
            "overflow": null,
            "_model_module_version": "1.2.0",
            "_view_count": null,
            "flex_flow": null,
            "width": null,
            "min_width": null,
            "border": null,
            "align_items": null,
            "bottom": null,
            "_model_module": "@jupyter-widgets/base",
            "top": null,
            "grid_column": null,
            "overflow_y": null,
            "overflow_x": null,
            "grid_auto_flow": null,
            "grid_area": null,
            "grid_template_columns": null,
            "flex": null,
            "_model_name": "LayoutModel",
            "justify_items": null,
            "grid_row": null,
            "max_height": null,
            "align_content": null,
            "visibility": null,
            "align_self": null,
            "height": null,
            "min_height": null,
            "padding": null,
            "grid_auto_rows": null,
            "grid_gap": null,
            "max_width": null,
            "order": null,
            "_view_module_version": "1.2.0",
            "grid_template_areas": null,
            "object_position": null,
            "object_fit": null,
            "grid_auto_columns": null,
            "margin": null,
            "display": null,
            "left": null
          }
        },
        "98535fdc5c794e80b5c76af1b615c183": {
          "model_module": "@jupyter-widgets/controls",
          "model_name": "DescriptionStyleModel",
          "state": {
            "_view_name": "StyleView",
            "_model_name": "DescriptionStyleModel",
            "description_width": "",
            "_view_module": "@jupyter-widgets/base",
            "_model_module_version": "1.5.0",
            "_view_count": null,
            "_view_module_version": "1.2.0",
            "_model_module": "@jupyter-widgets/controls"
          }
        },
        "40999c43beb540e4b042549afe433c08": {
          "model_module": "@jupyter-widgets/base",
          "model_name": "LayoutModel",
          "state": {
            "_view_name": "LayoutView",
            "grid_template_rows": null,
            "right": null,
            "justify_content": null,
            "_view_module": "@jupyter-widgets/base",
            "overflow": null,
            "_model_module_version": "1.2.0",
            "_view_count": null,
            "flex_flow": null,
            "width": null,
            "min_width": null,
            "border": null,
            "align_items": null,
            "bottom": null,
            "_model_module": "@jupyter-widgets/base",
            "top": null,
            "grid_column": null,
            "overflow_y": null,
            "overflow_x": null,
            "grid_auto_flow": null,
            "grid_area": null,
            "grid_template_columns": null,
            "flex": null,
            "_model_name": "LayoutModel",
            "justify_items": null,
            "grid_row": null,
            "max_height": null,
            "align_content": null,
            "visibility": null,
            "align_self": null,
            "height": null,
            "min_height": null,
            "padding": null,
            "grid_auto_rows": null,
            "grid_gap": null,
            "max_width": null,
            "order": null,
            "_view_module_version": "1.2.0",
            "grid_template_areas": null,
            "object_position": null,
            "object_fit": null,
            "grid_auto_columns": null,
            "margin": null,
            "display": null,
            "left": null
          }
        },
        "9502bc26b7a1438b9633df09209ee09e": {
          "model_module": "@jupyter-widgets/controls",
          "model_name": "HBoxModel",
          "state": {
            "_view_name": "HBoxView",
            "_dom_classes": [],
            "_model_name": "HBoxModel",
            "_view_module": "@jupyter-widgets/controls",
            "_model_module_version": "1.5.0",
            "_view_count": null,
            "_view_module_version": "1.5.0",
            "box_style": "",
            "layout": "IPY_MODEL_9ffb4dfa26bd4b4ea6f10ef879dc9e35",
            "_model_module": "@jupyter-widgets/controls",
            "children": [
              "IPY_MODEL_47a9cf9650cc4403b66617f9fea01b34",
              "IPY_MODEL_c15ec8e32c374704b0ad7274eb534256"
            ]
          }
        },
        "9ffb4dfa26bd4b4ea6f10ef879dc9e35": {
          "model_module": "@jupyter-widgets/base",
          "model_name": "LayoutModel",
          "state": {
            "_view_name": "LayoutView",
            "grid_template_rows": null,
            "right": null,
            "justify_content": null,
            "_view_module": "@jupyter-widgets/base",
            "overflow": null,
            "_model_module_version": "1.2.0",
            "_view_count": null,
            "flex_flow": null,
            "width": null,
            "min_width": null,
            "border": null,
            "align_items": null,
            "bottom": null,
            "_model_module": "@jupyter-widgets/base",
            "top": null,
            "grid_column": null,
            "overflow_y": null,
            "overflow_x": null,
            "grid_auto_flow": null,
            "grid_area": null,
            "grid_template_columns": null,
            "flex": null,
            "_model_name": "LayoutModel",
            "justify_items": null,
            "grid_row": null,
            "max_height": null,
            "align_content": null,
            "visibility": null,
            "align_self": null,
            "height": null,
            "min_height": null,
            "padding": null,
            "grid_auto_rows": null,
            "grid_gap": null,
            "max_width": null,
            "order": null,
            "_view_module_version": "1.2.0",
            "grid_template_areas": null,
            "object_position": null,
            "object_fit": null,
            "grid_auto_columns": null,
            "margin": null,
            "display": null,
            "left": null
          }
        },
        "47a9cf9650cc4403b66617f9fea01b34": {
          "model_module": "@jupyter-widgets/controls",
          "model_name": "FloatProgressModel",
          "state": {
            "_view_name": "ProgressView",
            "style": "IPY_MODEL_8e99e6e5f2e6493d89570a69f7a24f1f",
            "_dom_classes": [],
            "description": "Dl Size...: 100%",
            "_model_name": "FloatProgressModel",
            "bar_style": "success",
            "max": 1,
            "_view_module": "@jupyter-widgets/controls",
            "_model_module_version": "1.5.0",
            "value": 1,
            "_view_count": null,
            "_view_module_version": "1.5.0",
            "orientation": "horizontal",
            "min": 0,
            "description_tooltip": null,
            "_model_module": "@jupyter-widgets/controls",
            "layout": "IPY_MODEL_049bf3173a884644b341e402e93f8256"
          }
        },
        "c15ec8e32c374704b0ad7274eb534256": {
          "model_module": "@jupyter-widgets/controls",
          "model_name": "HTMLModel",
          "state": {
            "_view_name": "HTMLView",
            "style": "IPY_MODEL_a094cf11e1b94d678350b7346e4bcc67",
            "_dom_classes": [],
            "description": "",
            "_model_name": "HTMLModel",
            "placeholder": "​",
            "_view_module": "@jupyter-widgets/controls",
            "_model_module_version": "1.5.0",
            "value": " 80/80 [00:01&lt;00:00, 51.95 MiB/s]",
            "_view_count": null,
            "_view_module_version": "1.5.0",
            "description_tooltip": null,
            "_model_module": "@jupyter-widgets/controls",
            "layout": "IPY_MODEL_97a5784d4dde4f3c82a5704e0b8481e8"
          }
        },
        "8e99e6e5f2e6493d89570a69f7a24f1f": {
          "model_module": "@jupyter-widgets/controls",
          "model_name": "ProgressStyleModel",
          "state": {
            "_view_name": "StyleView",
            "_model_name": "ProgressStyleModel",
            "description_width": "initial",
            "_view_module": "@jupyter-widgets/base",
            "_model_module_version": "1.5.0",
            "_view_count": null,
            "_view_module_version": "1.2.0",
            "bar_color": null,
            "_model_module": "@jupyter-widgets/controls"
          }
        },
        "049bf3173a884644b341e402e93f8256": {
          "model_module": "@jupyter-widgets/base",
          "model_name": "LayoutModel",
          "state": {
            "_view_name": "LayoutView",
            "grid_template_rows": null,
            "right": null,
            "justify_content": null,
            "_view_module": "@jupyter-widgets/base",
            "overflow": null,
            "_model_module_version": "1.2.0",
            "_view_count": null,
            "flex_flow": null,
            "width": null,
            "min_width": null,
            "border": null,
            "align_items": null,
            "bottom": null,
            "_model_module": "@jupyter-widgets/base",
            "top": null,
            "grid_column": null,
            "overflow_y": null,
            "overflow_x": null,
            "grid_auto_flow": null,
            "grid_area": null,
            "grid_template_columns": null,
            "flex": null,
            "_model_name": "LayoutModel",
            "justify_items": null,
            "grid_row": null,
            "max_height": null,
            "align_content": null,
            "visibility": null,
            "align_self": null,
            "height": null,
            "min_height": null,
            "padding": null,
            "grid_auto_rows": null,
            "grid_gap": null,
            "max_width": null,
            "order": null,
            "_view_module_version": "1.2.0",
            "grid_template_areas": null,
            "object_position": null,
            "object_fit": null,
            "grid_auto_columns": null,
            "margin": null,
            "display": null,
            "left": null
          }
        },
        "a094cf11e1b94d678350b7346e4bcc67": {
          "model_module": "@jupyter-widgets/controls",
          "model_name": "DescriptionStyleModel",
          "state": {
            "_view_name": "StyleView",
            "_model_name": "DescriptionStyleModel",
            "description_width": "",
            "_view_module": "@jupyter-widgets/base",
            "_model_module_version": "1.5.0",
            "_view_count": null,
            "_view_module_version": "1.2.0",
            "_model_module": "@jupyter-widgets/controls"
          }
        },
        "97a5784d4dde4f3c82a5704e0b8481e8": {
          "model_module": "@jupyter-widgets/base",
          "model_name": "LayoutModel",
          "state": {
            "_view_name": "LayoutView",
            "grid_template_rows": null,
            "right": null,
            "justify_content": null,
            "_view_module": "@jupyter-widgets/base",
            "overflow": null,
            "_model_module_version": "1.2.0",
            "_view_count": null,
            "flex_flow": null,
            "width": null,
            "min_width": null,
            "border": null,
            "align_items": null,
            "bottom": null,
            "_model_module": "@jupyter-widgets/base",
            "top": null,
            "grid_column": null,
            "overflow_y": null,
            "overflow_x": null,
            "grid_auto_flow": null,
            "grid_area": null,
            "grid_template_columns": null,
            "flex": null,
            "_model_name": "LayoutModel",
            "justify_items": null,
            "grid_row": null,
            "max_height": null,
            "align_content": null,
            "visibility": null,
            "align_self": null,
            "height": null,
            "min_height": null,
            "padding": null,
            "grid_auto_rows": null,
            "grid_gap": null,
            "max_width": null,
            "order": null,
            "_view_module_version": "1.2.0",
            "grid_template_areas": null,
            "object_position": null,
            "object_fit": null,
            "grid_auto_columns": null,
            "margin": null,
            "display": null,
            "left": null
          }
        },
        "397a2555b7e744f9be74094c44fd95f9": {
          "model_module": "@jupyter-widgets/controls",
          "model_name": "HBoxModel",
          "state": {
            "_view_name": "HBoxView",
            "_dom_classes": [],
            "_model_name": "HBoxModel",
            "_view_module": "@jupyter-widgets/controls",
            "_model_module_version": "1.5.0",
            "_view_count": null,
            "_view_module_version": "1.5.0",
            "box_style": "",
            "layout": "IPY_MODEL_a20c135bc8b8426aa934607759bb4c32",
            "_model_module": "@jupyter-widgets/controls",
            "children": [
              "IPY_MODEL_32f96dc64c1549b0bf11385fbccfe594",
              "IPY_MODEL_81da9f4f46f64f1cb4e550140302487f"
            ]
          }
        },
        "a20c135bc8b8426aa934607759bb4c32": {
          "model_module": "@jupyter-widgets/base",
          "model_name": "LayoutModel",
          "state": {
            "_view_name": "LayoutView",
            "grid_template_rows": null,
            "right": null,
            "justify_content": null,
            "_view_module": "@jupyter-widgets/base",
            "overflow": null,
            "_model_module_version": "1.2.0",
            "_view_count": null,
            "flex_flow": null,
            "width": null,
            "min_width": null,
            "border": null,
            "align_items": null,
            "bottom": null,
            "_model_module": "@jupyter-widgets/base",
            "top": null,
            "grid_column": null,
            "overflow_y": null,
            "overflow_x": null,
            "grid_auto_flow": null,
            "grid_area": null,
            "grid_template_columns": null,
            "flex": null,
            "_model_name": "LayoutModel",
            "justify_items": null,
            "grid_row": null,
            "max_height": null,
            "align_content": null,
            "visibility": null,
            "align_self": null,
            "height": null,
            "min_height": null,
            "padding": null,
            "grid_auto_rows": null,
            "grid_gap": null,
            "max_width": null,
            "order": null,
            "_view_module_version": "1.2.0",
            "grid_template_areas": null,
            "object_position": null,
            "object_fit": null,
            "grid_auto_columns": null,
            "margin": null,
            "display": null,
            "left": null
          }
        },
        "32f96dc64c1549b0bf11385fbccfe594": {
          "model_module": "@jupyter-widgets/controls",
          "model_name": "FloatProgressModel",
          "state": {
            "_view_name": "ProgressView",
            "style": "IPY_MODEL_5b92be6433564bf78c9a2e4823c866d8",
            "_dom_classes": [],
            "description": "",
            "_model_name": "FloatProgressModel",
            "bar_style": "info",
            "max": 1,
            "_view_module": "@jupyter-widgets/controls",
            "_model_module_version": "1.5.0",
            "value": 1,
            "_view_count": null,
            "_view_module_version": "1.5.0",
            "orientation": "horizontal",
            "min": 0,
            "description_tooltip": null,
            "_model_module": "@jupyter-widgets/controls",
            "layout": "IPY_MODEL_967f5e7413e146b9b711c338b968da1c"
          }
        },
        "81da9f4f46f64f1cb4e550140302487f": {
          "model_module": "@jupyter-widgets/controls",
          "model_name": "HTMLModel",
          "state": {
            "_view_name": "HTMLView",
            "style": "IPY_MODEL_c3e68a476c9c4482ae1147db7820d6de",
            "_dom_classes": [],
            "description": "",
            "_model_name": "HTMLModel",
            "placeholder": "​",
            "_view_module": "@jupyter-widgets/controls",
            "_model_module_version": "1.5.0",
            "value": " 25000/0 [00:13&lt;00:00, 3697.45 examples/s]",
            "_view_count": null,
            "_view_module_version": "1.5.0",
            "description_tooltip": null,
            "_model_module": "@jupyter-widgets/controls",
            "layout": "IPY_MODEL_42de1c78933547fdb01a976663c3e815"
          }
        },
        "5b92be6433564bf78c9a2e4823c866d8": {
          "model_module": "@jupyter-widgets/controls",
          "model_name": "ProgressStyleModel",
          "state": {
            "_view_name": "StyleView",
            "_model_name": "ProgressStyleModel",
            "description_width": "initial",
            "_view_module": "@jupyter-widgets/base",
            "_model_module_version": "1.5.0",
            "_view_count": null,
            "_view_module_version": "1.2.0",
            "bar_color": null,
            "_model_module": "@jupyter-widgets/controls"
          }
        },
        "967f5e7413e146b9b711c338b968da1c": {
          "model_module": "@jupyter-widgets/base",
          "model_name": "LayoutModel",
          "state": {
            "_view_name": "LayoutView",
            "grid_template_rows": null,
            "right": null,
            "justify_content": null,
            "_view_module": "@jupyter-widgets/base",
            "overflow": null,
            "_model_module_version": "1.2.0",
            "_view_count": null,
            "flex_flow": null,
            "width": null,
            "min_width": null,
            "border": null,
            "align_items": null,
            "bottom": null,
            "_model_module": "@jupyter-widgets/base",
            "top": null,
            "grid_column": null,
            "overflow_y": null,
            "overflow_x": null,
            "grid_auto_flow": null,
            "grid_area": null,
            "grid_template_columns": null,
            "flex": null,
            "_model_name": "LayoutModel",
            "justify_items": null,
            "grid_row": null,
            "max_height": null,
            "align_content": null,
            "visibility": null,
            "align_self": null,
            "height": null,
            "min_height": null,
            "padding": null,
            "grid_auto_rows": null,
            "grid_gap": null,
            "max_width": null,
            "order": null,
            "_view_module_version": "1.2.0",
            "grid_template_areas": null,
            "object_position": null,
            "object_fit": null,
            "grid_auto_columns": null,
            "margin": null,
            "display": null,
            "left": null
          }
        },
        "c3e68a476c9c4482ae1147db7820d6de": {
          "model_module": "@jupyter-widgets/controls",
          "model_name": "DescriptionStyleModel",
          "state": {
            "_view_name": "StyleView",
            "_model_name": "DescriptionStyleModel",
            "description_width": "",
            "_view_module": "@jupyter-widgets/base",
            "_model_module_version": "1.5.0",
            "_view_count": null,
            "_view_module_version": "1.2.0",
            "_model_module": "@jupyter-widgets/controls"
          }
        },
        "42de1c78933547fdb01a976663c3e815": {
          "model_module": "@jupyter-widgets/base",
          "model_name": "LayoutModel",
          "state": {
            "_view_name": "LayoutView",
            "grid_template_rows": null,
            "right": null,
            "justify_content": null,
            "_view_module": "@jupyter-widgets/base",
            "overflow": null,
            "_model_module_version": "1.2.0",
            "_view_count": null,
            "flex_flow": null,
            "width": null,
            "min_width": null,
            "border": null,
            "align_items": null,
            "bottom": null,
            "_model_module": "@jupyter-widgets/base",
            "top": null,
            "grid_column": null,
            "overflow_y": null,
            "overflow_x": null,
            "grid_auto_flow": null,
            "grid_area": null,
            "grid_template_columns": null,
            "flex": null,
            "_model_name": "LayoutModel",
            "justify_items": null,
            "grid_row": null,
            "max_height": null,
            "align_content": null,
            "visibility": null,
            "align_self": null,
            "height": null,
            "min_height": null,
            "padding": null,
            "grid_auto_rows": null,
            "grid_gap": null,
            "max_width": null,
            "order": null,
            "_view_module_version": "1.2.0",
            "grid_template_areas": null,
            "object_position": null,
            "object_fit": null,
            "grid_auto_columns": null,
            "margin": null,
            "display": null,
            "left": null
          }
        },
        "4152a69928ab4bf99880eb1d19da8487": {
          "model_module": "@jupyter-widgets/controls",
          "model_name": "HBoxModel",
          "state": {
            "_view_name": "HBoxView",
            "_dom_classes": [],
            "_model_name": "HBoxModel",
            "_view_module": "@jupyter-widgets/controls",
            "_model_module_version": "1.5.0",
            "_view_count": null,
            "_view_module_version": "1.5.0",
            "box_style": "",
            "layout": "IPY_MODEL_24b27d25a3b1463f8b6b60eed57894f1",
            "_model_module": "@jupyter-widgets/controls",
            "children": [
              "IPY_MODEL_e2cef4726bcb44298afeaead06788f1b",
              "IPY_MODEL_04713c56aadf412a99fc4c24c7af747c"
            ]
          }
        },
        "24b27d25a3b1463f8b6b60eed57894f1": {
          "model_module": "@jupyter-widgets/base",
          "model_name": "LayoutModel",
          "state": {
            "_view_name": "LayoutView",
            "grid_template_rows": null,
            "right": null,
            "justify_content": null,
            "_view_module": "@jupyter-widgets/base",
            "overflow": null,
            "_model_module_version": "1.2.0",
            "_view_count": null,
            "flex_flow": null,
            "width": null,
            "min_width": null,
            "border": null,
            "align_items": null,
            "bottom": null,
            "_model_module": "@jupyter-widgets/base",
            "top": null,
            "grid_column": null,
            "overflow_y": null,
            "overflow_x": null,
            "grid_auto_flow": null,
            "grid_area": null,
            "grid_template_columns": null,
            "flex": null,
            "_model_name": "LayoutModel",
            "justify_items": null,
            "grid_row": null,
            "max_height": null,
            "align_content": null,
            "visibility": null,
            "align_self": null,
            "height": null,
            "min_height": null,
            "padding": null,
            "grid_auto_rows": null,
            "grid_gap": null,
            "max_width": null,
            "order": null,
            "_view_module_version": "1.2.0",
            "grid_template_areas": null,
            "object_position": null,
            "object_fit": null,
            "grid_auto_columns": null,
            "margin": null,
            "display": null,
            "left": null
          }
        },
        "e2cef4726bcb44298afeaead06788f1b": {
          "model_module": "@jupyter-widgets/controls",
          "model_name": "FloatProgressModel",
          "state": {
            "_view_name": "ProgressView",
            "style": "IPY_MODEL_4e335033480b488fb8bfe1a5e35bba87",
            "_dom_classes": [],
            "description": " 56%",
            "_model_name": "FloatProgressModel",
            "bar_style": "danger",
            "max": 25000,
            "_view_module": "@jupyter-widgets/controls",
            "_model_module_version": "1.5.0",
            "value": 14030,
            "_view_count": null,
            "_view_module_version": "1.5.0",
            "orientation": "horizontal",
            "min": 0,
            "description_tooltip": null,
            "_model_module": "@jupyter-widgets/controls",
            "layout": "IPY_MODEL_0d8dc4560de94c9d99ab49969c3eb251"
          }
        },
        "04713c56aadf412a99fc4c24c7af747c": {
          "model_module": "@jupyter-widgets/controls",
          "model_name": "HTMLModel",
          "state": {
            "_view_name": "HTMLView",
            "style": "IPY_MODEL_5ed1379381654ac0875f46eb4069e3cd",
            "_dom_classes": [],
            "description": "",
            "_model_name": "HTMLModel",
            "placeholder": "​",
            "_view_module": "@jupyter-widgets/controls",
            "_model_module_version": "1.5.0",
            "value": " 14030/25000 [00:00&lt;00:00, 140295.12 examples/s]",
            "_view_count": null,
            "_view_module_version": "1.5.0",
            "description_tooltip": null,
            "_model_module": "@jupyter-widgets/controls",
            "layout": "IPY_MODEL_97ace5dae3494c3b9ddf95a0404ba702"
          }
        },
        "4e335033480b488fb8bfe1a5e35bba87": {
          "model_module": "@jupyter-widgets/controls",
          "model_name": "ProgressStyleModel",
          "state": {
            "_view_name": "StyleView",
            "_model_name": "ProgressStyleModel",
            "description_width": "initial",
            "_view_module": "@jupyter-widgets/base",
            "_model_module_version": "1.5.0",
            "_view_count": null,
            "_view_module_version": "1.2.0",
            "bar_color": null,
            "_model_module": "@jupyter-widgets/controls"
          }
        },
        "0d8dc4560de94c9d99ab49969c3eb251": {
          "model_module": "@jupyter-widgets/base",
          "model_name": "LayoutModel",
          "state": {
            "_view_name": "LayoutView",
            "grid_template_rows": null,
            "right": null,
            "justify_content": null,
            "_view_module": "@jupyter-widgets/base",
            "overflow": null,
            "_model_module_version": "1.2.0",
            "_view_count": null,
            "flex_flow": null,
            "width": null,
            "min_width": null,
            "border": null,
            "align_items": null,
            "bottom": null,
            "_model_module": "@jupyter-widgets/base",
            "top": null,
            "grid_column": null,
            "overflow_y": null,
            "overflow_x": null,
            "grid_auto_flow": null,
            "grid_area": null,
            "grid_template_columns": null,
            "flex": null,
            "_model_name": "LayoutModel",
            "justify_items": null,
            "grid_row": null,
            "max_height": null,
            "align_content": null,
            "visibility": null,
            "align_self": null,
            "height": null,
            "min_height": null,
            "padding": null,
            "grid_auto_rows": null,
            "grid_gap": null,
            "max_width": null,
            "order": null,
            "_view_module_version": "1.2.0",
            "grid_template_areas": null,
            "object_position": null,
            "object_fit": null,
            "grid_auto_columns": null,
            "margin": null,
            "display": null,
            "left": null
          }
        },
        "5ed1379381654ac0875f46eb4069e3cd": {
          "model_module": "@jupyter-widgets/controls",
          "model_name": "DescriptionStyleModel",
          "state": {
            "_view_name": "StyleView",
            "_model_name": "DescriptionStyleModel",
            "description_width": "",
            "_view_module": "@jupyter-widgets/base",
            "_model_module_version": "1.5.0",
            "_view_count": null,
            "_view_module_version": "1.2.0",
            "_model_module": "@jupyter-widgets/controls"
          }
        },
        "97ace5dae3494c3b9ddf95a0404ba702": {
          "model_module": "@jupyter-widgets/base",
          "model_name": "LayoutModel",
          "state": {
            "_view_name": "LayoutView",
            "grid_template_rows": null,
            "right": null,
            "justify_content": null,
            "_view_module": "@jupyter-widgets/base",
            "overflow": null,
            "_model_module_version": "1.2.0",
            "_view_count": null,
            "flex_flow": null,
            "width": null,
            "min_width": null,
            "border": null,
            "align_items": null,
            "bottom": null,
            "_model_module": "@jupyter-widgets/base",
            "top": null,
            "grid_column": null,
            "overflow_y": null,
            "overflow_x": null,
            "grid_auto_flow": null,
            "grid_area": null,
            "grid_template_columns": null,
            "flex": null,
            "_model_name": "LayoutModel",
            "justify_items": null,
            "grid_row": null,
            "max_height": null,
            "align_content": null,
            "visibility": null,
            "align_self": null,
            "height": null,
            "min_height": null,
            "padding": null,
            "grid_auto_rows": null,
            "grid_gap": null,
            "max_width": null,
            "order": null,
            "_view_module_version": "1.2.0",
            "grid_template_areas": null,
            "object_position": null,
            "object_fit": null,
            "grid_auto_columns": null,
            "margin": null,
            "display": null,
            "left": null
          }
        },
        "cd23b3f4597648c39706361403c7c02d": {
          "model_module": "@jupyter-widgets/controls",
          "model_name": "HBoxModel",
          "state": {
            "_view_name": "HBoxView",
            "_dom_classes": [],
            "_model_name": "HBoxModel",
            "_view_module": "@jupyter-widgets/controls",
            "_model_module_version": "1.5.0",
            "_view_count": null,
            "_view_module_version": "1.5.0",
            "box_style": "",
            "layout": "IPY_MODEL_e27b10c71846473cba4e9dcbbfc00129",
            "_model_module": "@jupyter-widgets/controls",
            "children": [
              "IPY_MODEL_184ed15f47304621b310f2ece3c35122",
              "IPY_MODEL_f2be12fae4af4f458e2275a8dc5bcde3"
            ]
          }
        },
        "e27b10c71846473cba4e9dcbbfc00129": {
          "model_module": "@jupyter-widgets/base",
          "model_name": "LayoutModel",
          "state": {
            "_view_name": "LayoutView",
            "grid_template_rows": null,
            "right": null,
            "justify_content": null,
            "_view_module": "@jupyter-widgets/base",
            "overflow": null,
            "_model_module_version": "1.2.0",
            "_view_count": null,
            "flex_flow": null,
            "width": null,
            "min_width": null,
            "border": null,
            "align_items": null,
            "bottom": null,
            "_model_module": "@jupyter-widgets/base",
            "top": null,
            "grid_column": null,
            "overflow_y": null,
            "overflow_x": null,
            "grid_auto_flow": null,
            "grid_area": null,
            "grid_template_columns": null,
            "flex": null,
            "_model_name": "LayoutModel",
            "justify_items": null,
            "grid_row": null,
            "max_height": null,
            "align_content": null,
            "visibility": null,
            "align_self": null,
            "height": null,
            "min_height": null,
            "padding": null,
            "grid_auto_rows": null,
            "grid_gap": null,
            "max_width": null,
            "order": null,
            "_view_module_version": "1.2.0",
            "grid_template_areas": null,
            "object_position": null,
            "object_fit": null,
            "grid_auto_columns": null,
            "margin": null,
            "display": null,
            "left": null
          }
        },
        "184ed15f47304621b310f2ece3c35122": {
          "model_module": "@jupyter-widgets/controls",
          "model_name": "FloatProgressModel",
          "state": {
            "_view_name": "ProgressView",
            "style": "IPY_MODEL_98c390df42c1435894987911e17f8a4d",
            "_dom_classes": [],
            "description": "",
            "_model_name": "FloatProgressModel",
            "bar_style": "info",
            "max": 1,
            "_view_module": "@jupyter-widgets/controls",
            "_model_module_version": "1.5.0",
            "value": 1,
            "_view_count": null,
            "_view_module_version": "1.5.0",
            "orientation": "horizontal",
            "min": 0,
            "description_tooltip": null,
            "_model_module": "@jupyter-widgets/controls",
            "layout": "IPY_MODEL_6ed080b91188475b800953cb5c52a53c"
          }
        },
        "f2be12fae4af4f458e2275a8dc5bcde3": {
          "model_module": "@jupyter-widgets/controls",
          "model_name": "HTMLModel",
          "state": {
            "_view_name": "HTMLView",
            "style": "IPY_MODEL_747fa289f77f4dcbbf8e50581566c0f1",
            "_dom_classes": [],
            "description": "",
            "_model_name": "HTMLModel",
            "placeholder": "​",
            "_view_module": "@jupyter-widgets/controls",
            "_model_module_version": "1.5.0",
            "value": " 25000/0 [00:12&lt;00:00, 3702.37 examples/s]",
            "_view_count": null,
            "_view_module_version": "1.5.0",
            "description_tooltip": null,
            "_model_module": "@jupyter-widgets/controls",
            "layout": "IPY_MODEL_31d71391b2604d688194798d8322074c"
          }
        },
        "98c390df42c1435894987911e17f8a4d": {
          "model_module": "@jupyter-widgets/controls",
          "model_name": "ProgressStyleModel",
          "state": {
            "_view_name": "StyleView",
            "_model_name": "ProgressStyleModel",
            "description_width": "initial",
            "_view_module": "@jupyter-widgets/base",
            "_model_module_version": "1.5.0",
            "_view_count": null,
            "_view_module_version": "1.2.0",
            "bar_color": null,
            "_model_module": "@jupyter-widgets/controls"
          }
        },
        "6ed080b91188475b800953cb5c52a53c": {
          "model_module": "@jupyter-widgets/base",
          "model_name": "LayoutModel",
          "state": {
            "_view_name": "LayoutView",
            "grid_template_rows": null,
            "right": null,
            "justify_content": null,
            "_view_module": "@jupyter-widgets/base",
            "overflow": null,
            "_model_module_version": "1.2.0",
            "_view_count": null,
            "flex_flow": null,
            "width": null,
            "min_width": null,
            "border": null,
            "align_items": null,
            "bottom": null,
            "_model_module": "@jupyter-widgets/base",
            "top": null,
            "grid_column": null,
            "overflow_y": null,
            "overflow_x": null,
            "grid_auto_flow": null,
            "grid_area": null,
            "grid_template_columns": null,
            "flex": null,
            "_model_name": "LayoutModel",
            "justify_items": null,
            "grid_row": null,
            "max_height": null,
            "align_content": null,
            "visibility": null,
            "align_self": null,
            "height": null,
            "min_height": null,
            "padding": null,
            "grid_auto_rows": null,
            "grid_gap": null,
            "max_width": null,
            "order": null,
            "_view_module_version": "1.2.0",
            "grid_template_areas": null,
            "object_position": null,
            "object_fit": null,
            "grid_auto_columns": null,
            "margin": null,
            "display": null,
            "left": null
          }
        },
        "747fa289f77f4dcbbf8e50581566c0f1": {
          "model_module": "@jupyter-widgets/controls",
          "model_name": "DescriptionStyleModel",
          "state": {
            "_view_name": "StyleView",
            "_model_name": "DescriptionStyleModel",
            "description_width": "",
            "_view_module": "@jupyter-widgets/base",
            "_model_module_version": "1.5.0",
            "_view_count": null,
            "_view_module_version": "1.2.0",
            "_model_module": "@jupyter-widgets/controls"
          }
        },
        "31d71391b2604d688194798d8322074c": {
          "model_module": "@jupyter-widgets/base",
          "model_name": "LayoutModel",
          "state": {
            "_view_name": "LayoutView",
            "grid_template_rows": null,
            "right": null,
            "justify_content": null,
            "_view_module": "@jupyter-widgets/base",
            "overflow": null,
            "_model_module_version": "1.2.0",
            "_view_count": null,
            "flex_flow": null,
            "width": null,
            "min_width": null,
            "border": null,
            "align_items": null,
            "bottom": null,
            "_model_module": "@jupyter-widgets/base",
            "top": null,
            "grid_column": null,
            "overflow_y": null,
            "overflow_x": null,
            "grid_auto_flow": null,
            "grid_area": null,
            "grid_template_columns": null,
            "flex": null,
            "_model_name": "LayoutModel",
            "justify_items": null,
            "grid_row": null,
            "max_height": null,
            "align_content": null,
            "visibility": null,
            "align_self": null,
            "height": null,
            "min_height": null,
            "padding": null,
            "grid_auto_rows": null,
            "grid_gap": null,
            "max_width": null,
            "order": null,
            "_view_module_version": "1.2.0",
            "grid_template_areas": null,
            "object_position": null,
            "object_fit": null,
            "grid_auto_columns": null,
            "margin": null,
            "display": null,
            "left": null
          }
        },
        "7d4f141c8efb43b485cdb9e7674bd4c9": {
          "model_module": "@jupyter-widgets/controls",
          "model_name": "HBoxModel",
          "state": {
            "_view_name": "HBoxView",
            "_dom_classes": [],
            "_model_name": "HBoxModel",
            "_view_module": "@jupyter-widgets/controls",
            "_model_module_version": "1.5.0",
            "_view_count": null,
            "_view_module_version": "1.5.0",
            "box_style": "",
            "layout": "IPY_MODEL_49314e4964e145c9ab0ad8c4f568d9dd",
            "_model_module": "@jupyter-widgets/controls",
            "children": [
              "IPY_MODEL_0b83d0fa2c3144e6adf389e7c3e386d7",
              "IPY_MODEL_b54ded4d28d442e7b3430a2e3bc5d544"
            ]
          }
        },
        "49314e4964e145c9ab0ad8c4f568d9dd": {
          "model_module": "@jupyter-widgets/base",
          "model_name": "LayoutModel",
          "state": {
            "_view_name": "LayoutView",
            "grid_template_rows": null,
            "right": null,
            "justify_content": null,
            "_view_module": "@jupyter-widgets/base",
            "overflow": null,
            "_model_module_version": "1.2.0",
            "_view_count": null,
            "flex_flow": null,
            "width": null,
            "min_width": null,
            "border": null,
            "align_items": null,
            "bottom": null,
            "_model_module": "@jupyter-widgets/base",
            "top": null,
            "grid_column": null,
            "overflow_y": null,
            "overflow_x": null,
            "grid_auto_flow": null,
            "grid_area": null,
            "grid_template_columns": null,
            "flex": null,
            "_model_name": "LayoutModel",
            "justify_items": null,
            "grid_row": null,
            "max_height": null,
            "align_content": null,
            "visibility": null,
            "align_self": null,
            "height": null,
            "min_height": null,
            "padding": null,
            "grid_auto_rows": null,
            "grid_gap": null,
            "max_width": null,
            "order": null,
            "_view_module_version": "1.2.0",
            "grid_template_areas": null,
            "object_position": null,
            "object_fit": null,
            "grid_auto_columns": null,
            "margin": null,
            "display": null,
            "left": null
          }
        },
        "0b83d0fa2c3144e6adf389e7c3e386d7": {
          "model_module": "@jupyter-widgets/controls",
          "model_name": "FloatProgressModel",
          "state": {
            "_view_name": "ProgressView",
            "style": "IPY_MODEL_80f4d44891dc406b876bf2251864e209",
            "_dom_classes": [],
            "description": " 50%",
            "_model_name": "FloatProgressModel",
            "bar_style": "danger",
            "max": 25000,
            "_view_module": "@jupyter-widgets/controls",
            "_model_module_version": "1.5.0",
            "value": 12435,
            "_view_count": null,
            "_view_module_version": "1.5.0",
            "orientation": "horizontal",
            "min": 0,
            "description_tooltip": null,
            "_model_module": "@jupyter-widgets/controls",
            "layout": "IPY_MODEL_0021ffcb58764e5e812a2a74067c58be"
          }
        },
        "b54ded4d28d442e7b3430a2e3bc5d544": {
          "model_module": "@jupyter-widgets/controls",
          "model_name": "HTMLModel",
          "state": {
            "_view_name": "HTMLView",
            "style": "IPY_MODEL_c8e2ec234e864cd798a5b8058885566d",
            "_dom_classes": [],
            "description": "",
            "_model_name": "HTMLModel",
            "placeholder": "​",
            "_view_module": "@jupyter-widgets/controls",
            "_model_module_version": "1.5.0",
            "value": " 12435/25000 [00:00&lt;00:00, 124345.67 examples/s]",
            "_view_count": null,
            "_view_module_version": "1.5.0",
            "description_tooltip": null,
            "_model_module": "@jupyter-widgets/controls",
            "layout": "IPY_MODEL_008fc4bcc3284c43bc5be3dfcce5c814"
          }
        },
        "80f4d44891dc406b876bf2251864e209": {
          "model_module": "@jupyter-widgets/controls",
          "model_name": "ProgressStyleModel",
          "state": {
            "_view_name": "StyleView",
            "_model_name": "ProgressStyleModel",
            "description_width": "initial",
            "_view_module": "@jupyter-widgets/base",
            "_model_module_version": "1.5.0",
            "_view_count": null,
            "_view_module_version": "1.2.0",
            "bar_color": null,
            "_model_module": "@jupyter-widgets/controls"
          }
        },
        "0021ffcb58764e5e812a2a74067c58be": {
          "model_module": "@jupyter-widgets/base",
          "model_name": "LayoutModel",
          "state": {
            "_view_name": "LayoutView",
            "grid_template_rows": null,
            "right": null,
            "justify_content": null,
            "_view_module": "@jupyter-widgets/base",
            "overflow": null,
            "_model_module_version": "1.2.0",
            "_view_count": null,
            "flex_flow": null,
            "width": null,
            "min_width": null,
            "border": null,
            "align_items": null,
            "bottom": null,
            "_model_module": "@jupyter-widgets/base",
            "top": null,
            "grid_column": null,
            "overflow_y": null,
            "overflow_x": null,
            "grid_auto_flow": null,
            "grid_area": null,
            "grid_template_columns": null,
            "flex": null,
            "_model_name": "LayoutModel",
            "justify_items": null,
            "grid_row": null,
            "max_height": null,
            "align_content": null,
            "visibility": null,
            "align_self": null,
            "height": null,
            "min_height": null,
            "padding": null,
            "grid_auto_rows": null,
            "grid_gap": null,
            "max_width": null,
            "order": null,
            "_view_module_version": "1.2.0",
            "grid_template_areas": null,
            "object_position": null,
            "object_fit": null,
            "grid_auto_columns": null,
            "margin": null,
            "display": null,
            "left": null
          }
        },
        "c8e2ec234e864cd798a5b8058885566d": {
          "model_module": "@jupyter-widgets/controls",
          "model_name": "DescriptionStyleModel",
          "state": {
            "_view_name": "StyleView",
            "_model_name": "DescriptionStyleModel",
            "description_width": "",
            "_view_module": "@jupyter-widgets/base",
            "_model_module_version": "1.5.0",
            "_view_count": null,
            "_view_module_version": "1.2.0",
            "_model_module": "@jupyter-widgets/controls"
          }
        },
        "008fc4bcc3284c43bc5be3dfcce5c814": {
          "model_module": "@jupyter-widgets/base",
          "model_name": "LayoutModel",
          "state": {
            "_view_name": "LayoutView",
            "grid_template_rows": null,
            "right": null,
            "justify_content": null,
            "_view_module": "@jupyter-widgets/base",
            "overflow": null,
            "_model_module_version": "1.2.0",
            "_view_count": null,
            "flex_flow": null,
            "width": null,
            "min_width": null,
            "border": null,
            "align_items": null,
            "bottom": null,
            "_model_module": "@jupyter-widgets/base",
            "top": null,
            "grid_column": null,
            "overflow_y": null,
            "overflow_x": null,
            "grid_auto_flow": null,
            "grid_area": null,
            "grid_template_columns": null,
            "flex": null,
            "_model_name": "LayoutModel",
            "justify_items": null,
            "grid_row": null,
            "max_height": null,
            "align_content": null,
            "visibility": null,
            "align_self": null,
            "height": null,
            "min_height": null,
            "padding": null,
            "grid_auto_rows": null,
            "grid_gap": null,
            "max_width": null,
            "order": null,
            "_view_module_version": "1.2.0",
            "grid_template_areas": null,
            "object_position": null,
            "object_fit": null,
            "grid_auto_columns": null,
            "margin": null,
            "display": null,
            "left": null
          }
        },
        "9c663ba3ea2a403cb50000b287bac280": {
          "model_module": "@jupyter-widgets/controls",
          "model_name": "HBoxModel",
          "state": {
            "_view_name": "HBoxView",
            "_dom_classes": [],
            "_model_name": "HBoxModel",
            "_view_module": "@jupyter-widgets/controls",
            "_model_module_version": "1.5.0",
            "_view_count": null,
            "_view_module_version": "1.5.0",
            "box_style": "",
            "layout": "IPY_MODEL_a294864d88a9472e9edf6dacc322cb1c",
            "_model_module": "@jupyter-widgets/controls",
            "children": [
              "IPY_MODEL_f5c6f53c66c940e5837310e1db6b7311",
              "IPY_MODEL_09a3199ae7154099b2ea626231edb71a"
            ]
          }
        },
        "a294864d88a9472e9edf6dacc322cb1c": {
          "model_module": "@jupyter-widgets/base",
          "model_name": "LayoutModel",
          "state": {
            "_view_name": "LayoutView",
            "grid_template_rows": null,
            "right": null,
            "justify_content": null,
            "_view_module": "@jupyter-widgets/base",
            "overflow": null,
            "_model_module_version": "1.2.0",
            "_view_count": null,
            "flex_flow": null,
            "width": null,
            "min_width": null,
            "border": null,
            "align_items": null,
            "bottom": null,
            "_model_module": "@jupyter-widgets/base",
            "top": null,
            "grid_column": null,
            "overflow_y": null,
            "overflow_x": null,
            "grid_auto_flow": null,
            "grid_area": null,
            "grid_template_columns": null,
            "flex": null,
            "_model_name": "LayoutModel",
            "justify_items": null,
            "grid_row": null,
            "max_height": null,
            "align_content": null,
            "visibility": null,
            "align_self": null,
            "height": null,
            "min_height": null,
            "padding": null,
            "grid_auto_rows": null,
            "grid_gap": null,
            "max_width": null,
            "order": null,
            "_view_module_version": "1.2.0",
            "grid_template_areas": null,
            "object_position": null,
            "object_fit": null,
            "grid_auto_columns": null,
            "margin": null,
            "display": null,
            "left": null
          }
        },
        "f5c6f53c66c940e5837310e1db6b7311": {
          "model_module": "@jupyter-widgets/controls",
          "model_name": "FloatProgressModel",
          "state": {
            "_view_name": "ProgressView",
            "style": "IPY_MODEL_d78294c4ee2e4997a7ee4fb1fbb19a57",
            "_dom_classes": [],
            "description": "",
            "_model_name": "FloatProgressModel",
            "bar_style": "info",
            "max": 1,
            "_view_module": "@jupyter-widgets/controls",
            "_model_module_version": "1.5.0",
            "value": 1,
            "_view_count": null,
            "_view_module_version": "1.5.0",
            "orientation": "horizontal",
            "min": 0,
            "description_tooltip": null,
            "_model_module": "@jupyter-widgets/controls",
            "layout": "IPY_MODEL_6b6c9c228aae4b0798842d8d3ec40c7c"
          }
        },
        "09a3199ae7154099b2ea626231edb71a": {
          "model_module": "@jupyter-widgets/controls",
          "model_name": "HTMLModel",
          "state": {
            "_view_name": "HTMLView",
            "style": "IPY_MODEL_e046556dd995426e940aa807db0b5f46",
            "_dom_classes": [],
            "description": "",
            "_model_name": "HTMLModel",
            "placeholder": "​",
            "_view_module": "@jupyter-widgets/controls",
            "_model_module_version": "1.5.0",
            "value": " 50000/0 [00:17&lt;00:00, 3730.30 examples/s]",
            "_view_count": null,
            "_view_module_version": "1.5.0",
            "description_tooltip": null,
            "_model_module": "@jupyter-widgets/controls",
            "layout": "IPY_MODEL_1d38f38c39c44f34a5a9b8564d91e4ce"
          }
        },
        "d78294c4ee2e4997a7ee4fb1fbb19a57": {
          "model_module": "@jupyter-widgets/controls",
          "model_name": "ProgressStyleModel",
          "state": {
            "_view_name": "StyleView",
            "_model_name": "ProgressStyleModel",
            "description_width": "initial",
            "_view_module": "@jupyter-widgets/base",
            "_model_module_version": "1.5.0",
            "_view_count": null,
            "_view_module_version": "1.2.0",
            "bar_color": null,
            "_model_module": "@jupyter-widgets/controls"
          }
        },
        "6b6c9c228aae4b0798842d8d3ec40c7c": {
          "model_module": "@jupyter-widgets/base",
          "model_name": "LayoutModel",
          "state": {
            "_view_name": "LayoutView",
            "grid_template_rows": null,
            "right": null,
            "justify_content": null,
            "_view_module": "@jupyter-widgets/base",
            "overflow": null,
            "_model_module_version": "1.2.0",
            "_view_count": null,
            "flex_flow": null,
            "width": null,
            "min_width": null,
            "border": null,
            "align_items": null,
            "bottom": null,
            "_model_module": "@jupyter-widgets/base",
            "top": null,
            "grid_column": null,
            "overflow_y": null,
            "overflow_x": null,
            "grid_auto_flow": null,
            "grid_area": null,
            "grid_template_columns": null,
            "flex": null,
            "_model_name": "LayoutModel",
            "justify_items": null,
            "grid_row": null,
            "max_height": null,
            "align_content": null,
            "visibility": null,
            "align_self": null,
            "height": null,
            "min_height": null,
            "padding": null,
            "grid_auto_rows": null,
            "grid_gap": null,
            "max_width": null,
            "order": null,
            "_view_module_version": "1.2.0",
            "grid_template_areas": null,
            "object_position": null,
            "object_fit": null,
            "grid_auto_columns": null,
            "margin": null,
            "display": null,
            "left": null
          }
        },
        "e046556dd995426e940aa807db0b5f46": {
          "model_module": "@jupyter-widgets/controls",
          "model_name": "DescriptionStyleModel",
          "state": {
            "_view_name": "StyleView",
            "_model_name": "DescriptionStyleModel",
            "description_width": "",
            "_view_module": "@jupyter-widgets/base",
            "_model_module_version": "1.5.0",
            "_view_count": null,
            "_view_module_version": "1.2.0",
            "_model_module": "@jupyter-widgets/controls"
          }
        },
        "1d38f38c39c44f34a5a9b8564d91e4ce": {
          "model_module": "@jupyter-widgets/base",
          "model_name": "LayoutModel",
          "state": {
            "_view_name": "LayoutView",
            "grid_template_rows": null,
            "right": null,
            "justify_content": null,
            "_view_module": "@jupyter-widgets/base",
            "overflow": null,
            "_model_module_version": "1.2.0",
            "_view_count": null,
            "flex_flow": null,
            "width": null,
            "min_width": null,
            "border": null,
            "align_items": null,
            "bottom": null,
            "_model_module": "@jupyter-widgets/base",
            "top": null,
            "grid_column": null,
            "overflow_y": null,
            "overflow_x": null,
            "grid_auto_flow": null,
            "grid_area": null,
            "grid_template_columns": null,
            "flex": null,
            "_model_name": "LayoutModel",
            "justify_items": null,
            "grid_row": null,
            "max_height": null,
            "align_content": null,
            "visibility": null,
            "align_self": null,
            "height": null,
            "min_height": null,
            "padding": null,
            "grid_auto_rows": null,
            "grid_gap": null,
            "max_width": null,
            "order": null,
            "_view_module_version": "1.2.0",
            "grid_template_areas": null,
            "object_position": null,
            "object_fit": null,
            "grid_auto_columns": null,
            "margin": null,
            "display": null,
            "left": null
          }
        },
        "527f1db7a3b24819b6300c105c995e19": {
          "model_module": "@jupyter-widgets/controls",
          "model_name": "HBoxModel",
          "state": {
            "_view_name": "HBoxView",
            "_dom_classes": [],
            "_model_name": "HBoxModel",
            "_view_module": "@jupyter-widgets/controls",
            "_model_module_version": "1.5.0",
            "_view_count": null,
            "_view_module_version": "1.5.0",
            "box_style": "",
            "layout": "IPY_MODEL_1977ce5ba4f44c9dbbc9c49e76be32da",
            "_model_module": "@jupyter-widgets/controls",
            "children": [
              "IPY_MODEL_5341fd4ee28d43deae1c3002907a64f0",
              "IPY_MODEL_ebbca28df6674408ba57f2eb8f939798"
            ]
          }
        },
        "1977ce5ba4f44c9dbbc9c49e76be32da": {
          "model_module": "@jupyter-widgets/base",
          "model_name": "LayoutModel",
          "state": {
            "_view_name": "LayoutView",
            "grid_template_rows": null,
            "right": null,
            "justify_content": null,
            "_view_module": "@jupyter-widgets/base",
            "overflow": null,
            "_model_module_version": "1.2.0",
            "_view_count": null,
            "flex_flow": null,
            "width": null,
            "min_width": null,
            "border": null,
            "align_items": null,
            "bottom": null,
            "_model_module": "@jupyter-widgets/base",
            "top": null,
            "grid_column": null,
            "overflow_y": null,
            "overflow_x": null,
            "grid_auto_flow": null,
            "grid_area": null,
            "grid_template_columns": null,
            "flex": null,
            "_model_name": "LayoutModel",
            "justify_items": null,
            "grid_row": null,
            "max_height": null,
            "align_content": null,
            "visibility": null,
            "align_self": null,
            "height": null,
            "min_height": null,
            "padding": null,
            "grid_auto_rows": null,
            "grid_gap": null,
            "max_width": null,
            "order": null,
            "_view_module_version": "1.2.0",
            "grid_template_areas": null,
            "object_position": null,
            "object_fit": null,
            "grid_auto_columns": null,
            "margin": null,
            "display": null,
            "left": null
          }
        },
        "5341fd4ee28d43deae1c3002907a64f0": {
          "model_module": "@jupyter-widgets/controls",
          "model_name": "FloatProgressModel",
          "state": {
            "_view_name": "ProgressView",
            "style": "IPY_MODEL_b5db1267eb8648a3b10b71591d4d585e",
            "_dom_classes": [],
            "description": " 61%",
            "_model_name": "FloatProgressModel",
            "bar_style": "danger",
            "max": 50000,
            "_view_module": "@jupyter-widgets/controls",
            "_model_module_version": "1.5.0",
            "value": 30595,
            "_view_count": null,
            "_view_module_version": "1.5.0",
            "orientation": "horizontal",
            "min": 0,
            "description_tooltip": null,
            "_model_module": "@jupyter-widgets/controls",
            "layout": "IPY_MODEL_dc6468c442f749edba267ca4aa93c563"
          }
        },
        "ebbca28df6674408ba57f2eb8f939798": {
          "model_module": "@jupyter-widgets/controls",
          "model_name": "HTMLModel",
          "state": {
            "_view_name": "HTMLView",
            "style": "IPY_MODEL_b1183636eb89400fb7525698b3cfca73",
            "_dom_classes": [],
            "description": "",
            "_model_name": "HTMLModel",
            "placeholder": "​",
            "_view_module": "@jupyter-widgets/controls",
            "_model_module_version": "1.5.0",
            "value": " 30595/50000 [00:00&lt;00:00, 71286.26 examples/s]",
            "_view_count": null,
            "_view_module_version": "1.5.0",
            "description_tooltip": null,
            "_model_module": "@jupyter-widgets/controls",
            "layout": "IPY_MODEL_bb1bbd0f85d6465ca2838a8c40d84781"
          }
        },
        "b5db1267eb8648a3b10b71591d4d585e": {
          "model_module": "@jupyter-widgets/controls",
          "model_name": "ProgressStyleModel",
          "state": {
            "_view_name": "StyleView",
            "_model_name": "ProgressStyleModel",
            "description_width": "initial",
            "_view_module": "@jupyter-widgets/base",
            "_model_module_version": "1.5.0",
            "_view_count": null,
            "_view_module_version": "1.2.0",
            "bar_color": null,
            "_model_module": "@jupyter-widgets/controls"
          }
        },
        "dc6468c442f749edba267ca4aa93c563": {
          "model_module": "@jupyter-widgets/base",
          "model_name": "LayoutModel",
          "state": {
            "_view_name": "LayoutView",
            "grid_template_rows": null,
            "right": null,
            "justify_content": null,
            "_view_module": "@jupyter-widgets/base",
            "overflow": null,
            "_model_module_version": "1.2.0",
            "_view_count": null,
            "flex_flow": null,
            "width": null,
            "min_width": null,
            "border": null,
            "align_items": null,
            "bottom": null,
            "_model_module": "@jupyter-widgets/base",
            "top": null,
            "grid_column": null,
            "overflow_y": null,
            "overflow_x": null,
            "grid_auto_flow": null,
            "grid_area": null,
            "grid_template_columns": null,
            "flex": null,
            "_model_name": "LayoutModel",
            "justify_items": null,
            "grid_row": null,
            "max_height": null,
            "align_content": null,
            "visibility": null,
            "align_self": null,
            "height": null,
            "min_height": null,
            "padding": null,
            "grid_auto_rows": null,
            "grid_gap": null,
            "max_width": null,
            "order": null,
            "_view_module_version": "1.2.0",
            "grid_template_areas": null,
            "object_position": null,
            "object_fit": null,
            "grid_auto_columns": null,
            "margin": null,
            "display": null,
            "left": null
          }
        },
        "b1183636eb89400fb7525698b3cfca73": {
          "model_module": "@jupyter-widgets/controls",
          "model_name": "DescriptionStyleModel",
          "state": {
            "_view_name": "StyleView",
            "_model_name": "DescriptionStyleModel",
            "description_width": "",
            "_view_module": "@jupyter-widgets/base",
            "_model_module_version": "1.5.0",
            "_view_count": null,
            "_view_module_version": "1.2.0",
            "_model_module": "@jupyter-widgets/controls"
          }
        },
        "bb1bbd0f85d6465ca2838a8c40d84781": {
          "model_module": "@jupyter-widgets/base",
          "model_name": "LayoutModel",
          "state": {
            "_view_name": "LayoutView",
            "grid_template_rows": null,
            "right": null,
            "justify_content": null,
            "_view_module": "@jupyter-widgets/base",
            "overflow": null,
            "_model_module_version": "1.2.0",
            "_view_count": null,
            "flex_flow": null,
            "width": null,
            "min_width": null,
            "border": null,
            "align_items": null,
            "bottom": null,
            "_model_module": "@jupyter-widgets/base",
            "top": null,
            "grid_column": null,
            "overflow_y": null,
            "overflow_x": null,
            "grid_auto_flow": null,
            "grid_area": null,
            "grid_template_columns": null,
            "flex": null,
            "_model_name": "LayoutModel",
            "justify_items": null,
            "grid_row": null,
            "max_height": null,
            "align_content": null,
            "visibility": null,
            "align_self": null,
            "height": null,
            "min_height": null,
            "padding": null,
            "grid_auto_rows": null,
            "grid_gap": null,
            "max_width": null,
            "order": null,
            "_view_module_version": "1.2.0",
            "grid_template_areas": null,
            "object_position": null,
            "object_fit": null,
            "grid_auto_columns": null,
            "margin": null,
            "display": null,
            "left": null
          }
        }
      }
    }
  },
  "cells": [
    {
      "cell_type": "markdown",
      "metadata": {
        "id": "view-in-github",
        "colab_type": "text"
      },
      "source": [
        "<a href=\"https://colab.research.google.com/github/Philngtn/NLP_TensorFlow/blob/main/Week_3_Lesson_2d_GRU_LSTM_Conv1D.ipynb\" target=\"_parent\"><img src=\"https://colab.research.google.com/assets/colab-badge.svg\" alt=\"Open In Colab\"/></a>"
      ]
    },
    {
      "cell_type": "code",
      "metadata": {
        "id": "zX4Kg8DUTKWO"
      },
      "source": [
        "#@title Licensed under the Apache License, Version 2.0 (the \"License\");\n",
        "# you may not use this file except in compliance with the License.\n",
        "# You may obtain a copy of the License at\n",
        "#\n",
        "# https://www.apache.org/licenses/LICENSE-2.0\n",
        "#\n",
        "# Unless required by applicable law or agreed to in writing, software\n",
        "# distributed under the License is distributed on an \"AS IS\" BASIS,\n",
        "# WITHOUT WARRANTIES OR CONDITIONS OF ANY KIND, either express or implied.\n",
        "# See the License for the specific language governing permissions and\n",
        "# limitations under the License."
      ],
      "execution_count": null,
      "outputs": []
    },
    {
      "cell_type": "code",
      "metadata": {
        "colab": {
          "base_uri": "https://localhost:8080/"
        },
        "id": "P-AhVYeBWgQ3",
        "outputId": "8efb709d-4ac7-4b65-eb71-1ed334f86aac"
      },
      "source": [
        "import tensorflow as tf\n",
        "print(tf.__version__)\n",
        "\n",
        "# !pip install -q tensorflow-datasets"
      ],
      "execution_count": null,
      "outputs": [
        {
          "output_type": "stream",
          "text": [
            "2.5.0\n"
          ],
          "name": "stdout"
        }
      ]
    },
    {
      "cell_type": "code",
      "metadata": {
        "colab": {
          "base_uri": "https://localhost:8080/",
          "height": 375,
          "referenced_widgets": [
            "0b0811b97c464848ad404224129cd772",
            "f81e392ae7794bad9d4e044754559cf1",
            "9a7bba92fc4f49d0876a60637659417f",
            "77bda1fb63e54e01aebf02f5ef85a009",
            "70dae3d60bfb4fff8b1b7c86986292e0",
            "509078e34c674b9888334d2578f727bd",
            "98535fdc5c794e80b5c76af1b615c183",
            "40999c43beb540e4b042549afe433c08",
            "9502bc26b7a1438b9633df09209ee09e",
            "9ffb4dfa26bd4b4ea6f10ef879dc9e35",
            "47a9cf9650cc4403b66617f9fea01b34",
            "c15ec8e32c374704b0ad7274eb534256",
            "8e99e6e5f2e6493d89570a69f7a24f1f",
            "049bf3173a884644b341e402e93f8256",
            "a094cf11e1b94d678350b7346e4bcc67",
            "97a5784d4dde4f3c82a5704e0b8481e8",
            "397a2555b7e744f9be74094c44fd95f9",
            "a20c135bc8b8426aa934607759bb4c32",
            "32f96dc64c1549b0bf11385fbccfe594",
            "81da9f4f46f64f1cb4e550140302487f",
            "5b92be6433564bf78c9a2e4823c866d8",
            "967f5e7413e146b9b711c338b968da1c",
            "c3e68a476c9c4482ae1147db7820d6de",
            "42de1c78933547fdb01a976663c3e815",
            "4152a69928ab4bf99880eb1d19da8487",
            "24b27d25a3b1463f8b6b60eed57894f1",
            "e2cef4726bcb44298afeaead06788f1b",
            "04713c56aadf412a99fc4c24c7af747c",
            "4e335033480b488fb8bfe1a5e35bba87",
            "0d8dc4560de94c9d99ab49969c3eb251",
            "5ed1379381654ac0875f46eb4069e3cd",
            "97ace5dae3494c3b9ddf95a0404ba702",
            "cd23b3f4597648c39706361403c7c02d",
            "e27b10c71846473cba4e9dcbbfc00129",
            "184ed15f47304621b310f2ece3c35122",
            "f2be12fae4af4f458e2275a8dc5bcde3",
            "98c390df42c1435894987911e17f8a4d",
            "6ed080b91188475b800953cb5c52a53c",
            "747fa289f77f4dcbbf8e50581566c0f1",
            "31d71391b2604d688194798d8322074c",
            "7d4f141c8efb43b485cdb9e7674bd4c9",
            "49314e4964e145c9ab0ad8c4f568d9dd",
            "0b83d0fa2c3144e6adf389e7c3e386d7",
            "b54ded4d28d442e7b3430a2e3bc5d544",
            "80f4d44891dc406b876bf2251864e209",
            "0021ffcb58764e5e812a2a74067c58be",
            "c8e2ec234e864cd798a5b8058885566d",
            "008fc4bcc3284c43bc5be3dfcce5c814",
            "9c663ba3ea2a403cb50000b287bac280",
            "a294864d88a9472e9edf6dacc322cb1c",
            "f5c6f53c66c940e5837310e1db6b7311",
            "09a3199ae7154099b2ea626231edb71a",
            "d78294c4ee2e4997a7ee4fb1fbb19a57",
            "6b6c9c228aae4b0798842d8d3ec40c7c",
            "e046556dd995426e940aa807db0b5f46",
            "1d38f38c39c44f34a5a9b8564d91e4ce",
            "527f1db7a3b24819b6300c105c995e19",
            "1977ce5ba4f44c9dbbc9c49e76be32da",
            "5341fd4ee28d43deae1c3002907a64f0",
            "ebbca28df6674408ba57f2eb8f939798",
            "b5db1267eb8648a3b10b71591d4d585e",
            "dc6468c442f749edba267ca4aa93c563",
            "b1183636eb89400fb7525698b3cfca73",
            "bb1bbd0f85d6465ca2838a8c40d84781"
          ]
        },
        "id": "_IoM4VFxWpMR",
        "outputId": "f2296851-e5fa-4952-aaaf-f04a85cc033f"
      },
      "source": [
        "import tensorflow_datasets as tfds\n",
        "imdb, info = tfds.load(\"imdb_reviews\", with_info=True, as_supervised=True)\n"
      ],
      "execution_count": null,
      "outputs": [
        {
          "output_type": "stream",
          "text": [
            "\u001b[1mDownloading and preparing dataset imdb_reviews/plain_text/1.0.0 (download: 80.23 MiB, generated: Unknown size, total: 80.23 MiB) to /root/tensorflow_datasets/imdb_reviews/plain_text/1.0.0...\u001b[0m\n"
          ],
          "name": "stdout"
        },
        {
          "output_type": "display_data",
          "data": {
            "application/vnd.jupyter.widget-view+json": {
              "model_id": "0b0811b97c464848ad404224129cd772",
              "version_minor": 0,
              "version_major": 2
            },
            "text/plain": [
              "HBox(children=(FloatProgress(value=1.0, bar_style='info', description='Dl Completed...', max=1.0, style=Progre…"
            ]
          },
          "metadata": {
            "tags": []
          }
        },
        {
          "output_type": "display_data",
          "data": {
            "application/vnd.jupyter.widget-view+json": {
              "model_id": "9502bc26b7a1438b9633df09209ee09e",
              "version_minor": 0,
              "version_major": 2
            },
            "text/plain": [
              "HBox(children=(FloatProgress(value=1.0, bar_style='info', description='Dl Size...', max=1.0, style=ProgressSty…"
            ]
          },
          "metadata": {
            "tags": []
          }
        },
        {
          "output_type": "stream",
          "text": [
            "\n",
            "\n",
            "\n",
            "\n"
          ],
          "name": "stdout"
        },
        {
          "output_type": "display_data",
          "data": {
            "application/vnd.jupyter.widget-view+json": {
              "model_id": "397a2555b7e744f9be74094c44fd95f9",
              "version_minor": 0,
              "version_major": 2
            },
            "text/plain": [
              "HBox(children=(FloatProgress(value=1.0, bar_style='info', max=1.0), HTML(value='')))"
            ]
          },
          "metadata": {
            "tags": []
          }
        },
        {
          "output_type": "stream",
          "text": [
            "\rShuffling and writing examples to /root/tensorflow_datasets/imdb_reviews/plain_text/1.0.0.incompleteHRYWNJ/imdb_reviews-train.tfrecord\n"
          ],
          "name": "stdout"
        },
        {
          "output_type": "display_data",
          "data": {
            "application/vnd.jupyter.widget-view+json": {
              "model_id": "4152a69928ab4bf99880eb1d19da8487",
              "version_minor": 0,
              "version_major": 2
            },
            "text/plain": [
              "HBox(children=(FloatProgress(value=0.0, max=25000.0), HTML(value='')))"
            ]
          },
          "metadata": {
            "tags": []
          }
        },
        {
          "output_type": "stream",
          "text": [
            "\r"
          ],
          "name": "stdout"
        },
        {
          "output_type": "display_data",
          "data": {
            "application/vnd.jupyter.widget-view+json": {
              "model_id": "cd23b3f4597648c39706361403c7c02d",
              "version_minor": 0,
              "version_major": 2
            },
            "text/plain": [
              "HBox(children=(FloatProgress(value=1.0, bar_style='info', max=1.0), HTML(value='')))"
            ]
          },
          "metadata": {
            "tags": []
          }
        },
        {
          "output_type": "stream",
          "text": [
            "\rShuffling and writing examples to /root/tensorflow_datasets/imdb_reviews/plain_text/1.0.0.incompleteHRYWNJ/imdb_reviews-test.tfrecord\n"
          ],
          "name": "stdout"
        },
        {
          "output_type": "display_data",
          "data": {
            "application/vnd.jupyter.widget-view+json": {
              "model_id": "7d4f141c8efb43b485cdb9e7674bd4c9",
              "version_minor": 0,
              "version_major": 2
            },
            "text/plain": [
              "HBox(children=(FloatProgress(value=0.0, max=25000.0), HTML(value='')))"
            ]
          },
          "metadata": {
            "tags": []
          }
        },
        {
          "output_type": "stream",
          "text": [
            "\r"
          ],
          "name": "stdout"
        },
        {
          "output_type": "display_data",
          "data": {
            "application/vnd.jupyter.widget-view+json": {
              "model_id": "9c663ba3ea2a403cb50000b287bac280",
              "version_minor": 0,
              "version_major": 2
            },
            "text/plain": [
              "HBox(children=(FloatProgress(value=1.0, bar_style='info', max=1.0), HTML(value='')))"
            ]
          },
          "metadata": {
            "tags": []
          }
        },
        {
          "output_type": "stream",
          "text": [
            "\rShuffling and writing examples to /root/tensorflow_datasets/imdb_reviews/plain_text/1.0.0.incompleteHRYWNJ/imdb_reviews-unsupervised.tfrecord\n"
          ],
          "name": "stdout"
        },
        {
          "output_type": "display_data",
          "data": {
            "application/vnd.jupyter.widget-view+json": {
              "model_id": "527f1db7a3b24819b6300c105c995e19",
              "version_minor": 0,
              "version_major": 2
            },
            "text/plain": [
              "HBox(children=(FloatProgress(value=0.0, max=50000.0), HTML(value='')))"
            ]
          },
          "metadata": {
            "tags": []
          }
        },
        {
          "output_type": "stream",
          "text": [
            "WARNING:absl:Dataset is using deprecated text encoder API which will be removed soon. Please use the plain_text version of the dataset and migrate to `tensorflow_text`.\n"
          ],
          "name": "stderr"
        },
        {
          "output_type": "stream",
          "text": [
            "\u001b[1mDataset imdb_reviews downloaded and prepared to /root/tensorflow_datasets/imdb_reviews/plain_text/1.0.0. Subsequent calls will reuse this data.\u001b[0m\n",
            "\r"
          ],
          "name": "stdout"
        }
      ]
    },
    {
      "cell_type": "code",
      "metadata": {
        "id": "wHQ2Ko0zl7M4"
      },
      "source": [
        "import numpy as np\n",
        "\n",
        "train_data, test_data = imdb['train'], imdb['test']\n",
        "\n",
        "training_sentences = []\n",
        "training_labels = []\n",
        "\n",
        "testing_sentences = []\n",
        "testing_labels = []\n",
        "\n",
        "# str(s.tonumpy()) is needed in Python3 instead of just s.numpy()\n",
        "for s,l in train_data:\n",
        "  training_sentences.append(str(s.numpy()))\n",
        "  training_labels.append(l.numpy())\n",
        "  \n",
        "for s,l in test_data:\n",
        "  testing_sentences.append(str(s.numpy()))\n",
        "  testing_labels.append(l.numpy())\n",
        "  \n",
        "training_labels_final = np.array(training_labels)\n",
        "testing_labels_final = np.array(testing_labels)\n"
      ],
      "execution_count": null,
      "outputs": []
    },
    {
      "cell_type": "code",
      "metadata": {
        "id": "7n15yyMdmoH1"
      },
      "source": [
        "vocab_size = 10000\n",
        "embedding_dim = 16\n",
        "max_length = 120\n",
        "trunc_type='post'\n",
        "oov_tok = \"<OOV>\"\n",
        "\n",
        "\n",
        "from tensorflow.keras.preprocessing.text import Tokenizer\n",
        "from tensorflow.keras.preprocessing.sequence import pad_sequences\n",
        "\n",
        "tokenizer = Tokenizer(num_words = vocab_size, oov_token=oov_tok)\n",
        "tokenizer.fit_on_texts(training_sentences)\n",
        "word_index = tokenizer.word_index\n",
        "sequences = tokenizer.texts_to_sequences(training_sentences)\n",
        "padded = pad_sequences(sequences,maxlen=max_length, truncating=trunc_type)\n",
        "\n",
        "testing_sequences = tokenizer.texts_to_sequences(testing_sentences)\n",
        "testing_padded = pad_sequences(testing_sequences,maxlen=max_length)\n"
      ],
      "execution_count": null,
      "outputs": []
    },
    {
      "cell_type": "code",
      "metadata": {
        "colab": {
          "base_uri": "https://localhost:8080/"
        },
        "id": "9axf0uIXVMhO",
        "outputId": "ae7b5e9c-e252-4498-e2da-41b472c0b01e"
      },
      "source": [
        "reverse_word_index = dict([(value, key) for (key, value) in word_index.items()])\n",
        "\n",
        "def decode_review(text):\n",
        "    return ' '.join([reverse_word_index.get(i, '?') for i in text])\n",
        "\n",
        "print(decode_review(padded[1]))\n",
        "print(training_sentences[1])"
      ],
      "execution_count": null,
      "outputs": [
        {
          "output_type": "stream",
          "text": [
            "? ? ? ? ? ? ? b'i have been known to fall asleep during films but this is usually due to a combination of things including really tired being warm and comfortable on the <OOV> and having just eaten a lot however on this occasion i fell asleep because the film was rubbish the plot development was constant constantly slow and boring things seemed to happen but with no explanation of what was causing them or why i admit i may have missed part of the film but i watched the majority of it and everything just seemed to happen of its own <OOV> without any real concern for anything else i cant recommend this film at all '\n",
            "b'I have been known to fall asleep during films, but this is usually due to a combination of things including, really tired, being warm and comfortable on the sette and having just eaten a lot. However on this occasion I fell asleep because the film was rubbish. The plot development was constant. Constantly slow and boring. Things seemed to happen, but with no explanation of what was causing them or why. I admit, I may have missed part of the film, but i watched the majority of it and everything just seemed to happen of its own accord without any real concern for anything else. I cant recommend this film at all.'\n"
          ],
          "name": "stdout"
        }
      ]
    },
    {
      "cell_type": "code",
      "metadata": {
        "colab": {
          "base_uri": "https://localhost:8080/"
        },
        "id": "5NEpdhb8AxID",
        "outputId": "921959b1-90dd-4d9e-aea9-8fbae56b1f57"
      },
      "source": [
        "model = tf.keras.Sequential([\n",
        "    tf.keras.layers.Embedding(vocab_size, embedding_dim, input_length=max_length),\n",
        "    tf.keras.layers.Bidirectional(tf.keras.layers.GRU(32)),\n",
        "    tf.keras.layers.Dense(6, activation='relu'),\n",
        "    tf.keras.layers.Dense(1, activation='sigmoid')\n",
        "])\n",
        "model.compile(loss='binary_crossentropy',optimizer='adam',metrics=['accuracy'])\n",
        "model.summary()\n"
      ],
      "execution_count": null,
      "outputs": [
        {
          "output_type": "stream",
          "text": [
            "Model: \"sequential\"\n",
            "_________________________________________________________________\n",
            "Layer (type)                 Output Shape              Param #   \n",
            "=================================================================\n",
            "embedding (Embedding)        (None, 120, 16)           160000    \n",
            "_________________________________________________________________\n",
            "bidirectional (Bidirectional (None, 64)                9600      \n",
            "_________________________________________________________________\n",
            "dense (Dense)                (None, 6)                 390       \n",
            "_________________________________________________________________\n",
            "dense_1 (Dense)              (None, 1)                 7         \n",
            "=================================================================\n",
            "Total params: 169,997\n",
            "Trainable params: 169,997\n",
            "Non-trainable params: 0\n",
            "_________________________________________________________________\n"
          ],
          "name": "stdout"
        }
      ]
    },
    {
      "cell_type": "code",
      "metadata": {
        "colab": {
          "base_uri": "https://localhost:8080/"
        },
        "id": "V5LLrXC-uNX6",
        "outputId": "5019fe64-5375-4398-b37a-05de4108abd4"
      },
      "source": [
        "num_epochs = 50\n",
        "history = model.fit(padded, training_labels_final, epochs=num_epochs, validation_data=(testing_padded, testing_labels_final))"
      ],
      "execution_count": null,
      "outputs": [
        {
          "output_type": "stream",
          "text": [
            "Epoch 1/50\n",
            "782/782 [==============================] - 23s 18ms/step - loss: 0.5024 - accuracy: 0.7274 - val_loss: 0.4210 - val_accuracy: 0.8115\n",
            "Epoch 2/50\n",
            "782/782 [==============================] - 14s 17ms/step - loss: 0.2988 - accuracy: 0.8773 - val_loss: 0.3743 - val_accuracy: 0.8432\n",
            "Epoch 3/50\n",
            "782/782 [==============================] - 13s 17ms/step - loss: 0.2340 - accuracy: 0.9094 - val_loss: 0.3812 - val_accuracy: 0.8399\n",
            "Epoch 4/50\n",
            "782/782 [==============================] - 13s 17ms/step - loss: 0.1806 - accuracy: 0.9319 - val_loss: 0.4453 - val_accuracy: 0.8320\n",
            "Epoch 5/50\n",
            "782/782 [==============================] - 13s 17ms/step - loss: 0.1339 - accuracy: 0.9519 - val_loss: 0.4916 - val_accuracy: 0.8256\n",
            "Epoch 6/50\n",
            "782/782 [==============================] - 13s 17ms/step - loss: 0.0967 - accuracy: 0.9670 - val_loss: 0.6019 - val_accuracy: 0.8212\n",
            "Epoch 7/50\n",
            "782/782 [==============================] - 13s 17ms/step - loss: 0.0669 - accuracy: 0.9777 - val_loss: 0.7116 - val_accuracy: 0.8236\n",
            "Epoch 8/50\n",
            "782/782 [==============================] - 14s 17ms/step - loss: 0.0505 - accuracy: 0.9832 - val_loss: 0.7453 - val_accuracy: 0.8218\n",
            "Epoch 9/50\n",
            "782/782 [==============================] - 14s 17ms/step - loss: 0.0302 - accuracy: 0.9904 - val_loss: 0.8764 - val_accuracy: 0.8083\n",
            "Epoch 10/50\n",
            "782/782 [==============================] - 14s 18ms/step - loss: 0.0214 - accuracy: 0.9928 - val_loss: 0.9361 - val_accuracy: 0.8120\n",
            "Epoch 11/50\n",
            "782/782 [==============================] - 14s 18ms/step - loss: 0.0193 - accuracy: 0.9942 - val_loss: 0.9841 - val_accuracy: 0.8131\n",
            "Epoch 12/50\n",
            "782/782 [==============================] - 14s 18ms/step - loss: 0.0127 - accuracy: 0.9959 - val_loss: 1.0414 - val_accuracy: 0.8103\n",
            "Epoch 13/50\n",
            "782/782 [==============================] - 14s 18ms/step - loss: 0.0119 - accuracy: 0.9962 - val_loss: 1.0889 - val_accuracy: 0.8026\n",
            "Epoch 14/50\n",
            "782/782 [==============================] - 14s 17ms/step - loss: 0.0116 - accuracy: 0.9957 - val_loss: 1.1420 - val_accuracy: 0.8084\n",
            "Epoch 15/50\n",
            "782/782 [==============================] - 13s 17ms/step - loss: 0.0094 - accuracy: 0.9970 - val_loss: 1.2222 - val_accuracy: 0.8146\n",
            "Epoch 16/50\n",
            "782/782 [==============================] - 13s 17ms/step - loss: 0.0111 - accuracy: 0.9961 - val_loss: 1.2133 - val_accuracy: 0.8114\n",
            "Epoch 17/50\n",
            "782/782 [==============================] - 13s 17ms/step - loss: 0.0071 - accuracy: 0.9974 - val_loss: 1.2923 - val_accuracy: 0.8068\n",
            "Epoch 18/50\n",
            "782/782 [==============================] - 13s 17ms/step - loss: 0.0075 - accuracy: 0.9973 - val_loss: 1.2616 - val_accuracy: 0.8135\n",
            "Epoch 19/50\n",
            "782/782 [==============================] - 13s 17ms/step - loss: 0.0014 - accuracy: 0.9998 - val_loss: 1.3683 - val_accuracy: 0.8117\n",
            "Epoch 20/50\n",
            "782/782 [==============================] - 13s 17ms/step - loss: 2.9362e-04 - accuracy: 1.0000 - val_loss: 1.5307 - val_accuracy: 0.8151\n",
            "Epoch 21/50\n",
            "782/782 [==============================] - 13s 17ms/step - loss: 5.8976e-05 - accuracy: 1.0000 - val_loss: 1.5964 - val_accuracy: 0.8165\n",
            "Epoch 22/50\n",
            "782/782 [==============================] - 14s 17ms/step - loss: 3.0382e-05 - accuracy: 1.0000 - val_loss: 1.6493 - val_accuracy: 0.8168\n",
            "Epoch 23/50\n",
            "782/782 [==============================] - 13s 17ms/step - loss: 2.0197e-05 - accuracy: 1.0000 - val_loss: 1.7053 - val_accuracy: 0.8165\n",
            "Epoch 24/50\n",
            "782/782 [==============================] - 13s 17ms/step - loss: 1.3762e-05 - accuracy: 1.0000 - val_loss: 1.7610 - val_accuracy: 0.8165\n",
            "Epoch 25/50\n",
            "782/782 [==============================] - 13s 17ms/step - loss: 9.3305e-06 - accuracy: 1.0000 - val_loss: 1.8177 - val_accuracy: 0.8163\n",
            "Epoch 26/50\n",
            "782/782 [==============================] - 14s 17ms/step - loss: 6.2602e-06 - accuracy: 1.0000 - val_loss: 1.8785 - val_accuracy: 0.8166\n",
            "Epoch 27/50\n",
            "782/782 [==============================] - 13s 17ms/step - loss: 4.1823e-06 - accuracy: 1.0000 - val_loss: 1.9431 - val_accuracy: 0.8163\n",
            "Epoch 28/50\n",
            "782/782 [==============================] - 13s 17ms/step - loss: 2.7853e-06 - accuracy: 1.0000 - val_loss: 2.0059 - val_accuracy: 0.8162\n",
            "Epoch 29/50\n",
            "782/782 [==============================] - 13s 17ms/step - loss: 1.8338e-06 - accuracy: 1.0000 - val_loss: 2.0687 - val_accuracy: 0.8159\n",
            "Epoch 30/50\n",
            "782/782 [==============================] - 13s 17ms/step - loss: 1.1951e-06 - accuracy: 1.0000 - val_loss: 2.1322 - val_accuracy: 0.8162\n",
            "Epoch 31/50\n",
            "782/782 [==============================] - 13s 17ms/step - loss: 7.8353e-07 - accuracy: 1.0000 - val_loss: 2.1937 - val_accuracy: 0.8161\n",
            "Epoch 32/50\n",
            "782/782 [==============================] - 13s 17ms/step - loss: 5.1425e-07 - accuracy: 1.0000 - val_loss: 2.2598 - val_accuracy: 0.8160\n",
            "Epoch 33/50\n",
            "782/782 [==============================] - 13s 17ms/step - loss: 3.3662e-07 - accuracy: 1.0000 - val_loss: 2.3213 - val_accuracy: 0.8160\n",
            "Epoch 34/50\n",
            "782/782 [==============================] - 13s 17ms/step - loss: 2.2047e-07 - accuracy: 1.0000 - val_loss: 2.3847 - val_accuracy: 0.8160\n",
            "Epoch 35/50\n",
            "782/782 [==============================] - 13s 17ms/step - loss: 1.4442e-07 - accuracy: 1.0000 - val_loss: 2.4467 - val_accuracy: 0.8156\n",
            "Epoch 36/50\n",
            "782/782 [==============================] - 13s 17ms/step - loss: 9.5376e-08 - accuracy: 1.0000 - val_loss: 2.5134 - val_accuracy: 0.8154\n",
            "Epoch 37/50\n",
            "782/782 [==============================] - 13s 17ms/step - loss: 6.2753e-08 - accuracy: 1.0000 - val_loss: 2.5802 - val_accuracy: 0.8156\n",
            "Epoch 38/50\n",
            "782/782 [==============================] - 13s 17ms/step - loss: 4.1765e-08 - accuracy: 1.0000 - val_loss: 2.6394 - val_accuracy: 0.8155\n",
            "Epoch 39/50\n",
            "782/782 [==============================] - 13s 17ms/step - loss: 2.7967e-08 - accuracy: 1.0000 - val_loss: 2.6959 - val_accuracy: 0.8158\n",
            "Epoch 40/50\n",
            "782/782 [==============================] - 13s 17ms/step - loss: 1.8925e-08 - accuracy: 1.0000 - val_loss: 2.7505 - val_accuracy: 0.8156\n",
            "Epoch 41/50\n",
            "782/782 [==============================] - 13s 17ms/step - loss: 1.2998e-08 - accuracy: 1.0000 - val_loss: 2.8083 - val_accuracy: 0.8155\n",
            "Epoch 42/50\n",
            "782/782 [==============================] - 13s 17ms/step - loss: 9.1178e-09 - accuracy: 1.0000 - val_loss: 2.8609 - val_accuracy: 0.8154\n",
            "Epoch 43/50\n",
            "782/782 [==============================] - 13s 17ms/step - loss: 6.4429e-09 - accuracy: 1.0000 - val_loss: 2.9133 - val_accuracy: 0.8150\n",
            "Epoch 44/50\n",
            "782/782 [==============================] - 13s 17ms/step - loss: 4.6835e-09 - accuracy: 1.0000 - val_loss: 2.9604 - val_accuracy: 0.8151\n",
            "Epoch 45/50\n",
            "782/782 [==============================] - 13s 17ms/step - loss: 3.4651e-09 - accuracy: 1.0000 - val_loss: 3.0017 - val_accuracy: 0.8149\n",
            "Epoch 46/50\n",
            "782/782 [==============================] - 13s 17ms/step - loss: 2.6445e-09 - accuracy: 1.0000 - val_loss: 3.0467 - val_accuracy: 0.8150\n",
            "Epoch 47/50\n",
            "782/782 [==============================] - 13s 17ms/step - loss: 2.0586e-09 - accuracy: 1.0000 - val_loss: 3.0798 - val_accuracy: 0.8150\n",
            "Epoch 48/50\n",
            "782/782 [==============================] - 13s 17ms/step - loss: 1.6498e-09 - accuracy: 1.0000 - val_loss: 3.1069 - val_accuracy: 0.8148\n",
            "Epoch 49/50\n",
            "782/782 [==============================] - 13s 17ms/step - loss: 1.3898e-09 - accuracy: 1.0000 - val_loss: 3.1373 - val_accuracy: 0.8145\n",
            "Epoch 50/50\n",
            "782/782 [==============================] - 13s 17ms/step - loss: 1.2038e-09 - accuracy: 1.0000 - val_loss: 3.1669 - val_accuracy: 0.8143\n"
          ],
          "name": "stdout"
        }
      ]
    },
    {
      "cell_type": "code",
      "metadata": {
        "colab": {
          "base_uri": "https://localhost:8080/",
          "height": 541
        },
        "id": "nHGYuU4jPYaj",
        "outputId": "e12bbb54-4641-4e27-df4c-6c5c521f38ce"
      },
      "source": [
        "import matplotlib.pyplot as plt\n",
        "\n",
        "\n",
        "def plot_graphs(history, string):\n",
        "  plt.plot(history.history[string])\n",
        "  plt.plot(history.history['val_'+string])\n",
        "  plt.xlabel(\"Epochs\")\n",
        "  plt.ylabel(string)\n",
        "  plt.legend([string, 'val_'+string])\n",
        "  plt.show()\n",
        "\n",
        "plot_graphs(history, 'accuracy')\n",
        "plot_graphs(history, 'loss')"
      ],
      "execution_count": null,
      "outputs": [
        {
          "output_type": "display_data",
          "data": {
            "image/png": "[encoded data removed]",
            "text/plain": [
              "<Figure size 432x288 with 1 Axes>"
            ]
          },
          "metadata": {
            "tags": [],
            "needs_background": "light"
          }
        },
        {
          "output_type": "display_data",
          "data": {
            "image/png": "[encoded data removed]",
            "text/plain": [
              "<Figure size 432x288 with 1 Axes>"
            ]
          },
          "metadata": {
            "tags": [],
            "needs_background": "light"
          }
        }
      ]
    },
    {
      "cell_type": "code",
      "metadata": {
        "colab": {
          "base_uri": "https://localhost:8080/"
        },
        "id": "wSualgGPPK0S",
        "outputId": "545daa83-a5bd-426c-a7c0-dd6888bcc95a"
      },
      "source": [
        "# Model Definition with LSTM\n",
        "model = tf.keras.Sequential([\n",
        "    tf.keras.layers.Embedding(vocab_size, embedding_dim, input_length=max_length),\n",
        "    tf.keras.layers.Bidirectional(tf.keras.layers.LSTM(32)),\n",
        "    tf.keras.layers.Dense(6, activation='relu'),\n",
        "    tf.keras.layers.Dense(1, activation='sigmoid')\n",
        "])\n",
        "model.compile(loss='binary_crossentropy',optimizer='adam',metrics=['accuracy'])\n",
        "model.summary()\n"
      ],
      "execution_count": null,
      "outputs": [
        {
          "output_type": "stream",
          "text": [
            "Model: \"sequential_1\"\n",
            "_________________________________________________________________\n",
            "Layer (type)                 Output Shape              Param #   \n",
            "=================================================================\n",
            "embedding_1 (Embedding)      (None, 120, 16)           160000    \n",
            "_________________________________________________________________\n",
            "bidirectional_1 (Bidirection (None, 64)                12544     \n",
            "_________________________________________________________________\n",
            "dense_2 (Dense)              (None, 6)                 390       \n",
            "_________________________________________________________________\n",
            "dense_3 (Dense)              (None, 1)                 7         \n",
            "=================================================================\n",
            "Total params: 172,941\n",
            "Trainable params: 172,941\n",
            "Non-trainable params: 0\n",
            "_________________________________________________________________\n"
          ],
          "name": "stdout"
        }
      ]
    },
    {
      "cell_type": "code",
      "metadata": {
        "id": "QHtVNir3Hesm",
        "colab": {
          "base_uri": "https://localhost:8080/"
        },
        "outputId": "d1d87ec3-ab04-4511-84d1-3ff96e30fb2f"
      },
      "source": [
        "num_epochs = 50\n",
        "history = model.fit(padded, training_labels_final, epochs=num_epochs, validation_data=(testing_padded, testing_labels_final))"
      ],
      "execution_count": null,
      "outputs": [
        {
          "output_type": "stream",
          "text": [
            "Epoch 1/50\n",
            "782/782 [==============================] - 32s 7ms/step - loss: 0.4515 - accuracy: 0.7715 - val_loss: 0.3466 - val_accuracy: 0.8496\n",
            "Epoch 2/50\n",
            "782/782 [==============================] - 6s 7ms/step - loss: 0.2809 - accuracy: 0.8841 - val_loss: 0.3552 - val_accuracy: 0.8467\n",
            "Epoch 3/50\n",
            "782/782 [==============================] - 5s 7ms/step - loss: 0.2276 - accuracy: 0.9106 - val_loss: 0.3855 - val_accuracy: 0.8388\n",
            "Epoch 4/50\n",
            "782/782 [==============================] - 5s 7ms/step - loss: 0.1882 - accuracy: 0.9293 - val_loss: 0.4309 - val_accuracy: 0.8330\n",
            "Epoch 5/50\n",
            "782/782 [==============================] - 5s 7ms/step - loss: 0.1564 - accuracy: 0.9427 - val_loss: 0.5386 - val_accuracy: 0.8024\n",
            "Epoch 6/50\n",
            "782/782 [==============================] - 5s 7ms/step - loss: 0.1249 - accuracy: 0.9579 - val_loss: 0.5470 - val_accuracy: 0.8202\n",
            "Epoch 7/50\n",
            "782/782 [==============================] - 5s 7ms/step - loss: 0.0988 - accuracy: 0.9688 - val_loss: 0.6280 - val_accuracy: 0.8178\n",
            "Epoch 8/50\n",
            "782/782 [==============================] - 5s 7ms/step - loss: 0.0772 - accuracy: 0.9764 - val_loss: 0.6899 - val_accuracy: 0.8108\n",
            "Epoch 9/50\n",
            "782/782 [==============================] - 5s 7ms/step - loss: 0.0572 - accuracy: 0.9838 - val_loss: 0.8441 - val_accuracy: 0.8069\n",
            "Epoch 10/50\n",
            "782/782 [==============================] - 5s 7ms/step - loss: 0.0446 - accuracy: 0.9877 - val_loss: 0.9306 - val_accuracy: 0.8001\n",
            "Epoch 11/50\n",
            "782/782 [==============================] - 5s 7ms/step - loss: 0.0335 - accuracy: 0.9914 - val_loss: 1.0339 - val_accuracy: 0.8055\n",
            "Epoch 12/50\n",
            "782/782 [==============================] - 5s 7ms/step - loss: 0.0340 - accuracy: 0.9898 - val_loss: 1.1660 - val_accuracy: 0.8018\n",
            "Epoch 13/50\n",
            "782/782 [==============================] - 5s 7ms/step - loss: 0.0284 - accuracy: 0.9915 - val_loss: 1.2597 - val_accuracy: 0.8018\n",
            "Epoch 14/50\n",
            "782/782 [==============================] - 5s 7ms/step - loss: 0.0181 - accuracy: 0.9953 - val_loss: 1.3912 - val_accuracy: 0.8017\n",
            "Epoch 15/50\n",
            "782/782 [==============================] - 5s 7ms/step - loss: 0.0174 - accuracy: 0.9947 - val_loss: 1.5215 - val_accuracy: 0.8012\n",
            "Epoch 16/50\n",
            "782/782 [==============================] - 5s 7ms/step - loss: 0.0215 - accuracy: 0.9927 - val_loss: 1.4337 - val_accuracy: 0.7923\n",
            "Epoch 17/50\n",
            "782/782 [==============================] - 5s 7ms/step - loss: 0.0143 - accuracy: 0.9957 - val_loss: 1.5413 - val_accuracy: 0.7969\n",
            "Epoch 18/50\n",
            "782/782 [==============================] - 5s 7ms/step - loss: 0.0077 - accuracy: 0.9980 - val_loss: 1.6970 - val_accuracy: 0.7972\n",
            "Epoch 19/50\n",
            "782/782 [==============================] - 5s 7ms/step - loss: 0.0083 - accuracy: 0.9974 - val_loss: 1.7757 - val_accuracy: 0.7984\n",
            "Epoch 20/50\n",
            "782/782 [==============================] - 5s 7ms/step - loss: 0.0135 - accuracy: 0.9955 - val_loss: 1.7305 - val_accuracy: 0.7994\n",
            "Epoch 21/50\n",
            "782/782 [==============================] - 5s 7ms/step - loss: 0.0087 - accuracy: 0.9972 - val_loss: 1.9411 - val_accuracy: 0.7979\n",
            "Epoch 22/50\n",
            "782/782 [==============================] - 5s 7ms/step - loss: 0.0069 - accuracy: 0.9981 - val_loss: 1.9882 - val_accuracy: 0.7977\n",
            "Epoch 23/50\n",
            "782/782 [==============================] - 5s 7ms/step - loss: 0.0071 - accuracy: 0.9976 - val_loss: 2.0790 - val_accuracy: 0.7992\n",
            "Epoch 24/50\n",
            "782/782 [==============================] - 5s 7ms/step - loss: 0.0095 - accuracy: 0.9964 - val_loss: 2.0962 - val_accuracy: 0.7998\n",
            "Epoch 25/50\n",
            "782/782 [==============================] - 5s 7ms/step - loss: 0.0086 - accuracy: 0.9970 - val_loss: 1.9991 - val_accuracy: 0.7973\n",
            "Epoch 26/50\n",
            "782/782 [==============================] - 5s 7ms/step - loss: 0.0064 - accuracy: 0.9979 - val_loss: 2.0217 - val_accuracy: 0.7982\n",
            "Epoch 27/50\n",
            "782/782 [==============================] - 5s 7ms/step - loss: 0.0022 - accuracy: 0.9993 - val_loss: 2.1221 - val_accuracy: 0.8009\n",
            "Epoch 28/50\n",
            "782/782 [==============================] - 5s 7ms/step - loss: 7.7321e-04 - accuracy: 0.9999 - val_loss: 2.2061 - val_accuracy: 0.7992\n",
            "Epoch 29/50\n",
            "782/782 [==============================] - 5s 7ms/step - loss: 2.1492e-04 - accuracy: 1.0000 - val_loss: 2.3076 - val_accuracy: 0.8005\n",
            "Epoch 30/50\n",
            "782/782 [==============================] - 5s 7ms/step - loss: 6.6383e-05 - accuracy: 1.0000 - val_loss: 2.3725 - val_accuracy: 0.8008\n",
            "Epoch 31/50\n",
            "782/782 [==============================] - 5s 7ms/step - loss: 4.1398e-05 - accuracy: 1.0000 - val_loss: 2.4366 - val_accuracy: 0.8008\n",
            "Epoch 32/50\n",
            "782/782 [==============================] - 5s 7ms/step - loss: 2.7822e-05 - accuracy: 1.0000 - val_loss: 2.5056 - val_accuracy: 0.8008\n",
            "Epoch 33/50\n",
            "782/782 [==============================] - 5s 7ms/step - loss: 1.9802e-05 - accuracy: 1.0000 - val_loss: 2.5695 - val_accuracy: 0.8013\n",
            "Epoch 34/50\n",
            "782/782 [==============================] - 5s 7ms/step - loss: 1.3898e-05 - accuracy: 1.0000 - val_loss: 2.6418 - val_accuracy: 0.8012\n",
            "Epoch 35/50\n",
            "782/782 [==============================] - 5s 7ms/step - loss: 9.7146e-06 - accuracy: 1.0000 - val_loss: 2.7169 - val_accuracy: 0.8012\n",
            "Epoch 36/50\n",
            "782/782 [==============================] - 5s 7ms/step - loss: 6.6727e-06 - accuracy: 1.0000 - val_loss: 2.7963 - val_accuracy: 0.8013\n",
            "Epoch 37/50\n",
            "782/782 [==============================] - 5s 7ms/step - loss: 4.5820e-06 - accuracy: 1.0000 - val_loss: 2.8806 - val_accuracy: 0.8012\n",
            "Epoch 38/50\n",
            "782/782 [==============================] - 5s 7ms/step - loss: 3.1102e-06 - accuracy: 1.0000 - val_loss: 2.9549 - val_accuracy: 0.8008\n",
            "Epoch 39/50\n",
            "782/782 [==============================] - 6s 7ms/step - loss: 2.0943e-06 - accuracy: 1.0000 - val_loss: 3.0388 - val_accuracy: 0.8008\n",
            "Epoch 40/50\n",
            "782/782 [==============================] - 5s 7ms/step - loss: 1.4211e-06 - accuracy: 1.0000 - val_loss: 3.1290 - val_accuracy: 0.8012\n",
            "Epoch 41/50\n",
            "782/782 [==============================] - 5s 7ms/step - loss: 9.3188e-07 - accuracy: 1.0000 - val_loss: 3.2243 - val_accuracy: 0.8008\n",
            "Epoch 42/50\n",
            "782/782 [==============================] - 6s 7ms/step - loss: 6.4490e-07 - accuracy: 1.0000 - val_loss: 3.3052 - val_accuracy: 0.8008\n",
            "Epoch 43/50\n",
            "782/782 [==============================] - 5s 7ms/step - loss: 4.1700e-07 - accuracy: 1.0000 - val_loss: 3.3946 - val_accuracy: 0.8006\n",
            "Epoch 44/50\n",
            "782/782 [==============================] - 5s 7ms/step - loss: 2.7762e-07 - accuracy: 1.0000 - val_loss: 3.4854 - val_accuracy: 0.8004\n",
            "Epoch 45/50\n",
            "782/782 [==============================] - 5s 7ms/step - loss: 1.9187e-07 - accuracy: 1.0000 - val_loss: 3.5708 - val_accuracy: 0.8005\n",
            "Epoch 46/50\n",
            "782/782 [==============================] - 5s 7ms/step - loss: 1.2778e-07 - accuracy: 1.0000 - val_loss: 3.6604 - val_accuracy: 0.8007\n",
            "Epoch 47/50\n",
            "782/782 [==============================] - 5s 7ms/step - loss: 8.6226e-08 - accuracy: 1.0000 - val_loss: 3.7427 - val_accuracy: 0.8006\n",
            "Epoch 48/50\n",
            "782/782 [==============================] - 5s 7ms/step - loss: 5.9031e-08 - accuracy: 1.0000 - val_loss: 3.8304 - val_accuracy: 0.8010\n",
            "Epoch 49/50\n",
            "782/782 [==============================] - 5s 7ms/step - loss: 4.1454e-08 - accuracy: 1.0000 - val_loss: 3.9136 - val_accuracy: 0.8007\n",
            "Epoch 50/50\n",
            "782/782 [==============================] - 5s 7ms/step - loss: 2.8870e-08 - accuracy: 1.0000 - val_loss: 3.9936 - val_accuracy: 0.8006\n"
          ],
          "name": "stdout"
        }
      ]
    },
    {
      "cell_type": "code",
      "metadata": {
        "id": "8gmSgJEjHjC0",
        "colab": {
          "base_uri": "https://localhost:8080/",
          "height": 541
        },
        "outputId": "9479b300-c857-4fa6-d2d7-8faaa5e282c3"
      },
      "source": [
        "import matplotlib.pyplot as plt\n",
        "\n",
        "\n",
        "def plot_graphs(history, string):\n",
        "  plt.plot(history.history[string])\n",
        "  plt.plot(history.history['val_'+string])\n",
        "  plt.xlabel(\"Epochs\")\n",
        "  plt.ylabel(string)\n",
        "  plt.legend([string, 'val_'+string])\n",
        "  plt.show()\n",
        "\n",
        "plot_graphs(history, 'accuracy')\n",
        "plot_graphs(history, 'loss')"
      ],
      "execution_count": null,
      "outputs": [
        {
          "output_type": "display_data",
          "data": {
            "image/png": "[encoded data removed]",
            "text/plain": [
              "<Figure size 432x288 with 1 Axes>"
            ]
          },
          "metadata": {
            "tags": [],
            "needs_background": "light"
          }
        },
        {
          "output_type": "display_data",
          "data": {
            "image/png": "[encoded data removed]",
            "text/plain": [
              "<Figure size 432x288 with 1 Axes>"
            ]
          },
          "metadata": {
            "tags": [],
            "needs_background": "light"
          }
        }
      ]
    },
    {
      "cell_type": "code",
      "metadata": {
        "colab": {
          "base_uri": "https://localhost:8080/"
        },
        "id": "K_Jc7cY3Qxke",
        "outputId": "b2bd1972-c361-418e-aad7-f46fd5a09994"
      },
      "source": [
        "# Model Definition with Conv1D\n",
        "model = tf.keras.Sequential([\n",
        "    tf.keras.layers.Embedding(vocab_size, embedding_dim, input_length=max_length),\n",
        "    tf.keras.layers.Conv1D(128, 5, activation='relu'),\n",
        "    tf.keras.layers.GlobalAveragePooling1D(),\n",
        "    tf.keras.layers.Dense(6, activation='relu'),\n",
        "    tf.keras.layers.Dense(1, activation='sigmoid')\n",
        "])\n",
        "model.compile(loss='binary_crossentropy',optimizer='adam',metrics=['accuracy'])\n",
        "model.summary()\n"
      ],
      "execution_count": null,
      "outputs": [
        {
          "output_type": "stream",
          "text": [
            "Model: \"sequential_3\"\n",
            "_________________________________________________________________\n",
            "Layer (type)                 Output Shape              Param #   \n",
            "=================================================================\n",
            "embedding_3 (Embedding)      (None, 120, 16)           160000    \n",
            "_________________________________________________________________\n",
            "conv1d_1 (Conv1D)            (None, 116, 128)          10368     \n",
            "_________________________________________________________________\n",
            "global_average_pooling1d_1 ( (None, 128)               0         \n",
            "_________________________________________________________________\n",
            "dense_6 (Dense)              (None, 6)                 774       \n",
            "_________________________________________________________________\n",
            "dense_7 (Dense)              (None, 1)                 7         \n",
            "=================================================================\n",
            "Total params: 171,149\n",
            "Trainable params: 171,149\n",
            "Non-trainable params: 0\n",
            "_________________________________________________________________\n"
          ],
          "name": "stdout"
        }
      ]
    },
    {
      "cell_type": "code",
      "metadata": {
        "id": "lRQ3ZsnWHo2e",
        "colab": {
          "base_uri": "https://localhost:8080/"
        },
        "outputId": "37fb51f5-2f91-4945-ea7c-477817deb0a5"
      },
      "source": [
        "num_epochs = 50\n",
        "history = model.fit(padded, training_labels_final, epochs=num_epochs, validation_data=(testing_padded, testing_labels_final))"
      ],
      "execution_count": null,
      "outputs": [
        {
          "output_type": "stream",
          "text": [
            "Epoch 1/50\n",
            "782/782 [==============================] - 7s 7ms/step - loss: 0.4459 - accuracy: 0.7787 - val_loss: 0.3505 - val_accuracy: 0.8460\n",
            "Epoch 2/50\n",
            "782/782 [==============================] - 6s 7ms/step - loss: 0.2786 - accuracy: 0.8882 - val_loss: 0.3529 - val_accuracy: 0.8463\n",
            "Epoch 3/50\n",
            "782/782 [==============================] - 5s 7ms/step - loss: 0.2262 - accuracy: 0.9099 - val_loss: 0.3773 - val_accuracy: 0.8413\n",
            "Epoch 4/50\n",
            "782/782 [==============================] - 5s 7ms/step - loss: 0.1806 - accuracy: 0.9325 - val_loss: 0.4191 - val_accuracy: 0.8340\n",
            "Epoch 5/50\n",
            "782/782 [==============================] - 6s 7ms/step - loss: 0.1434 - accuracy: 0.9504 - val_loss: 0.4912 - val_accuracy: 0.8246\n",
            "Epoch 6/50\n",
            "782/782 [==============================] - 5s 7ms/step - loss: 0.1133 - accuracy: 0.9626 - val_loss: 0.5854 - val_accuracy: 0.8186\n",
            "Epoch 7/50\n",
            "782/782 [==============================] - 5s 7ms/step - loss: 0.0877 - accuracy: 0.9730 - val_loss: 0.6857 - val_accuracy: 0.8096\n",
            "Epoch 8/50\n",
            "782/782 [==============================] - 5s 7ms/step - loss: 0.0707 - accuracy: 0.9776 - val_loss: 0.7646 - val_accuracy: 0.8092\n",
            "Epoch 9/50\n",
            "782/782 [==============================] - 5s 7ms/step - loss: 0.0552 - accuracy: 0.9839 - val_loss: 0.8352 - val_accuracy: 0.8062\n",
            "Epoch 10/50\n",
            "782/782 [==============================] - 5s 7ms/step - loss: 0.0394 - accuracy: 0.9892 - val_loss: 0.9611 - val_accuracy: 0.8066\n",
            "Epoch 11/50\n",
            "782/782 [==============================] - 6s 7ms/step - loss: 0.0335 - accuracy: 0.9899 - val_loss: 1.0334 - val_accuracy: 0.8042\n",
            "Epoch 12/50\n",
            "782/782 [==============================] - 6s 7ms/step - loss: 0.0252 - accuracy: 0.9932 - val_loss: 1.1900 - val_accuracy: 0.8019\n",
            "Epoch 13/50\n",
            "782/782 [==============================] - 5s 7ms/step - loss: 0.0202 - accuracy: 0.9940 - val_loss: 1.2455 - val_accuracy: 0.8013\n",
            "Epoch 14/50\n",
            "782/782 [==============================] - 6s 7ms/step - loss: 0.0206 - accuracy: 0.9934 - val_loss: 1.3591 - val_accuracy: 0.7999\n",
            "Epoch 15/50\n",
            "782/782 [==============================] - 5s 7ms/step - loss: 0.0148 - accuracy: 0.9952 - val_loss: 1.4999 - val_accuracy: 0.7962\n",
            "Epoch 16/50\n",
            "782/782 [==============================] - 5s 7ms/step - loss: 0.0100 - accuracy: 0.9973 - val_loss: 1.5577 - val_accuracy: 0.7988\n",
            "Epoch 17/50\n",
            "782/782 [==============================] - 6s 7ms/step - loss: 0.0098 - accuracy: 0.9968 - val_loss: 1.6971 - val_accuracy: 0.7994\n",
            "Epoch 18/50\n",
            "782/782 [==============================] - 5s 7ms/step - loss: 0.0108 - accuracy: 0.9960 - val_loss: 1.7505 - val_accuracy: 0.7987\n",
            "Epoch 19/50\n",
            "782/782 [==============================] - 5s 7ms/step - loss: 0.0127 - accuracy: 0.9956 - val_loss: 1.8092 - val_accuracy: 0.7981\n",
            "Epoch 20/50\n",
            "782/782 [==============================] - 5s 7ms/step - loss: 0.0060 - accuracy: 0.9983 - val_loss: 1.8526 - val_accuracy: 0.8002\n",
            "Epoch 21/50\n",
            "782/782 [==============================] - 5s 7ms/step - loss: 0.0056 - accuracy: 0.9979 - val_loss: 1.9230 - val_accuracy: 0.7997\n",
            "Epoch 22/50\n",
            "782/782 [==============================] - 5s 7ms/step - loss: 0.0070 - accuracy: 0.9974 - val_loss: 2.1214 - val_accuracy: 0.7946\n",
            "Epoch 23/50\n",
            "782/782 [==============================] - 5s 7ms/step - loss: 0.0080 - accuracy: 0.9973 - val_loss: 2.0317 - val_accuracy: 0.7960\n",
            "Epoch 24/50\n",
            "782/782 [==============================] - 5s 7ms/step - loss: 0.0093 - accuracy: 0.9967 - val_loss: 2.1234 - val_accuracy: 0.7926\n",
            "Epoch 25/50\n",
            "782/782 [==============================] - 5s 7ms/step - loss: 0.0046 - accuracy: 0.9983 - val_loss: 2.1048 - val_accuracy: 0.7959\n",
            "Epoch 26/50\n",
            "782/782 [==============================] - 5s 7ms/step - loss: 0.0013 - accuracy: 0.9997 - val_loss: 2.2060 - val_accuracy: 0.7956\n",
            "Epoch 27/50\n",
            "782/782 [==============================] - 5s 7ms/step - loss: 4.7648e-04 - accuracy: 1.0000 - val_loss: 2.3059 - val_accuracy: 0.7968\n",
            "Epoch 28/50\n",
            "782/782 [==============================] - 5s 7ms/step - loss: 9.3618e-05 - accuracy: 1.0000 - val_loss: 2.3767 - val_accuracy: 0.7969\n",
            "Epoch 29/50\n",
            "782/782 [==============================] - 5s 7ms/step - loss: 5.1660e-05 - accuracy: 1.0000 - val_loss: 2.4145 - val_accuracy: 0.7974\n",
            "Epoch 30/50\n",
            "782/782 [==============================] - 5s 7ms/step - loss: 3.5981e-05 - accuracy: 1.0000 - val_loss: 2.4666 - val_accuracy: 0.7977\n",
            "Epoch 31/50\n",
            "782/782 [==============================] - 5s 7ms/step - loss: 2.5982e-05 - accuracy: 1.0000 - val_loss: 2.5304 - val_accuracy: 0.7978\n",
            "Epoch 32/50\n",
            "782/782 [==============================] - 5s 7ms/step - loss: 1.8298e-05 - accuracy: 1.0000 - val_loss: 2.5885 - val_accuracy: 0.7983\n",
            "Epoch 33/50\n",
            "782/782 [==============================] - 5s 7ms/step - loss: 1.2948e-05 - accuracy: 1.0000 - val_loss: 2.6589 - val_accuracy: 0.7981\n",
            "Epoch 34/50\n",
            "782/782 [==============================] - 5s 7ms/step - loss: 9.0180e-06 - accuracy: 1.0000 - val_loss: 2.7391 - val_accuracy: 0.7979\n",
            "Epoch 35/50\n",
            "782/782 [==============================] - 5s 7ms/step - loss: 6.2161e-06 - accuracy: 1.0000 - val_loss: 2.8037 - val_accuracy: 0.7989\n",
            "Epoch 36/50\n",
            "782/782 [==============================] - 5s 7ms/step - loss: 4.2525e-06 - accuracy: 1.0000 - val_loss: 2.8916 - val_accuracy: 0.7981\n",
            "Epoch 37/50\n",
            "782/782 [==============================] - 5s 7ms/step - loss: 2.8562e-06 - accuracy: 1.0000 - val_loss: 2.9749 - val_accuracy: 0.7986\n",
            "Epoch 38/50\n",
            "782/782 [==============================] - 5s 7ms/step - loss: 1.9382e-06 - accuracy: 1.0000 - val_loss: 3.0758 - val_accuracy: 0.7983\n",
            "Epoch 39/50\n",
            "782/782 [==============================] - 5s 7ms/step - loss: 1.3085e-06 - accuracy: 1.0000 - val_loss: 3.1522 - val_accuracy: 0.7990\n",
            "Epoch 40/50\n",
            "782/782 [==============================] - 5s 7ms/step - loss: 8.6686e-07 - accuracy: 1.0000 - val_loss: 3.2381 - val_accuracy: 0.7993\n",
            "Epoch 41/50\n",
            "782/782 [==============================] - 5s 7ms/step - loss: 5.8133e-07 - accuracy: 1.0000 - val_loss: 3.3290 - val_accuracy: 0.7989\n",
            "Epoch 42/50\n",
            "782/782 [==============================] - 5s 7ms/step - loss: 3.8903e-07 - accuracy: 1.0000 - val_loss: 3.4122 - val_accuracy: 0.7994\n",
            "Epoch 43/50\n",
            "782/782 [==============================] - 5s 7ms/step - loss: 2.6151e-07 - accuracy: 1.0000 - val_loss: 3.5001 - val_accuracy: 0.7992\n",
            "Epoch 44/50\n",
            "782/782 [==============================] - 5s 7ms/step - loss: 1.7495e-07 - accuracy: 1.0000 - val_loss: 3.5949 - val_accuracy: 0.7989\n",
            "Epoch 45/50\n",
            "782/782 [==============================] - 5s 7ms/step - loss: 1.2116e-07 - accuracy: 1.0000 - val_loss: 3.6815 - val_accuracy: 0.7984\n",
            "Epoch 46/50\n",
            "782/782 [==============================] - 5s 7ms/step - loss: 8.2371e-08 - accuracy: 1.0000 - val_loss: 3.7547 - val_accuracy: 0.7994\n",
            "Epoch 47/50\n",
            "782/782 [==============================] - 5s 7ms/step - loss: 5.6434e-08 - accuracy: 1.0000 - val_loss: 3.8395 - val_accuracy: 0.7991\n",
            "Epoch 48/50\n",
            "782/782 [==============================] - 6s 7ms/step - loss: 3.9625e-08 - accuracy: 1.0000 - val_loss: 3.9211 - val_accuracy: 0.7991\n",
            "Epoch 49/50\n",
            "782/782 [==============================] - 5s 7ms/step - loss: 2.7361e-08 - accuracy: 1.0000 - val_loss: 4.0054 - val_accuracy: 0.7997\n",
            "Epoch 50/50\n",
            "782/782 [==============================] - 5s 7ms/step - loss: 2.0204e-08 - accuracy: 1.0000 - val_loss: 4.0801 - val_accuracy: 0.7993\n"
          ],
          "name": "stdout"
        }
      ]
    },
    {
      "cell_type": "code",
      "metadata": {
        "id": "ReZuM4naHqDh",
        "colab": {
          "base_uri": "https://localhost:8080/",
          "height": 541
        },
        "outputId": "0c6c155a-b76a-4ea8-a0f7-5f3163e9ad32"
      },
      "source": [
        "import matplotlib.pyplot as plt\n",
        "\n",
        "\n",
        "def plot_graphs(history, string):\n",
        "  plt.plot(history.history[string])\n",
        "  plt.plot(history.history['val_'+string])\n",
        "  plt.xlabel(\"Epochs\")\n",
        "  plt.ylabel(string)\n",
        "  plt.legend([string, 'val_'+string])\n",
        "  plt.show()\n",
        "\n",
        "plot_graphs(history, 'accuracy')\n",
        "plot_graphs(history, 'loss')"
      ],
      "execution_count": null,
      "outputs": [
        {
          "output_type": "display_data",
          "data": {
            "image/png": "[encoded data removed]",
            "text/plain": [
              "<Figure size 432x288 with 1 Axes>"
            ]
          },
          "metadata": {
            "tags": [],
            "needs_background": "light"
          }
        },
        {
          "output_type": "display_data",
          "data": {
            "image/png": "[encoded data removed]",
            "text/plain": [
              "<Figure size 432x288 with 1 Axes>"
            ]
          },
          "metadata": {
            "tags": [],
            "needs_background": "light"
          }
        }
      ]
    }
  ]
}