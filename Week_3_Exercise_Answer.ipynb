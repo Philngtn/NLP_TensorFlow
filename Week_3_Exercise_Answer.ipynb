{
  "nbformat": 4,
  "nbformat_minor": 0,
  "metadata": {
    "accelerator": "GPU",
    "colab": {
      "name": "Week 3 Exercise Answer.ipynb",
      "provenance": [],
      "collapsed_sections": [],
      "include_colab_link": true
    },
    "kernelspec": {
      "display_name": "Python 3",
      "language": "python",
      "name": "python3"
    },
    "language_info": {
      "codemirror_mode": {
        "name": "ipython",
        "version": 3
      },
      "file_extension": ".py",
      "mimetype": "text/x-python",
      "name": "python",
      "nbconvert_exporter": "python",
      "pygments_lexer": "ipython3",
      "version": "3.7.6"
    }
  },
  "cells": [
    {
      "cell_type": "markdown",
      "metadata": {
        "id": "view-in-github",
        "colab_type": "text"
      },
      "source": [
        "<a href=\"https://colab.research.google.com/github/Philngtn/NLP_TensorFlow/blob/main/Week_3_Exercise_Answer.ipynb\" target=\"_parent\"><img src=\"https://colab.research.google.com/assets/colab-badge.svg\" alt=\"Open In Colab\"/></a>"
      ]
    },
    {
      "cell_type": "code",
      "metadata": {
        "id": "zX4Kg8DUTKWO"
      },
      "source": [
        "#@title Licensed under the Apache License, Version 2.0 (the \"License\");\n",
        "# you may not use this file except in compliance with the License.\n",
        "# You may obtain a copy of the License at\n",
        "#\n",
        "# https://www.apache.org/licenses/LICENSE-2.0\n",
        "#\n",
        "# Unless required by applicable law or agreed to in writing, software\n",
        "# distributed under the License is distributed on an \"AS IS\" BASIS,\n",
        "# WITHOUT WARRANTIES OR CONDITIONS OF ANY KIND, either express or implied.\n",
        "# See the License for the specific language governing permissions and\n",
        "# limitations under the License."
      ],
      "execution_count": null,
      "outputs": []
    },
    {
      "cell_type": "markdown",
      "metadata": {
        "id": "nAAAyDFrGyl5"
      },
      "source": [
        "<a href=\"https://colab.research.google.com/github/lmoroney/dlaicourse/blob/master/TensorFlow%20In%20Practice/Course%203%20-%20NLP/NLP%20Course%20-%20Week%203%20Exercise%20Answer.ipynb\" target=\"_parent\"><img src=\"https://colab.research.google.com/assets/colab-badge.svg\" alt=\"Open In Colab\"/></a>"
      ]
    },
    {
      "cell_type": "code",
      "metadata": {
        "id": "hmA6EzkQJ5jt"
      },
      "source": [
        "import json\n",
        "import tensorflow as tf\n",
        "import csv\n",
        "import random\n",
        "import numpy as np\n",
        "\n",
        "from tensorflow.keras.preprocessing.text import Tokenizer\n",
        "from tensorflow.keras.preprocessing.sequence import pad_sequences\n",
        "from tensorflow.keras.utils import to_categorical\n",
        "from tensorflow.keras import regularizers\n",
        "\n",
        "\n",
        "embedding_dim = 100\n",
        "max_length = 16\n",
        "trunc_type='post'\n",
        "padding_type='post'\n",
        "oov_tok = \"<OOV>\"\n",
        "training_size=160000\n",
        "test_portion=.1\n",
        "\n",
        "corpus = []\n"
      ],
      "execution_count": null,
      "outputs": []
    },
    {
      "cell_type": "code",
      "metadata": {
        "colab": {
          "base_uri": "https://localhost:8080/"
        },
        "id": "bM0l_dORKqE0",
        "outputId": "4d1ca126-c6fe-4103-def8-9b6968b32a82"
      },
      "source": [
        "# Note that I cleaned the Stanford dataset to remove LATIN1 encoding to make it easier for Python CSV reader\n",
        "# You can do that yourself with:\n",
        "# iconv -f LATIN1 -t UTF8 training.1600000.processed.noemoticon.csv -o training_cleaned.csv\n",
        "# I then hosted it on my site to make it easier to use in this notebook\n",
        "\n",
        "!wget --no-check-certificate \\\n",
        "    https://storage.googleapis.com/laurencemoroney-blog.appspot.com/training_cleaned.csv \\\n",
        "    -O /tmp/training_cleaned.csv\n",
        "\n",
        "num_sentences = 0\n",
        "\n",
        "with open(\"/tmp/training_cleaned.csv\") as csvfile:\n",
        "    reader = csv.reader(csvfile, delimiter=',')\n",
        "    for row in reader:\n",
        "        list_item=[]\n",
        "        list_item.append(row[5])\n",
        "        this_label=row[0]\n",
        "        if this_label=='0':\n",
        "            list_item.append(0)\n",
        "        else:\n",
        "            list_item.append(1)\n",
        "        num_sentences = num_sentences + 1\n",
        "        corpus.append(list_item)\n"
      ],
      "execution_count": null,
      "outputs": [
        {
          "output_type": "stream",
          "text": [
            "--2021-07-07 01:18:17--  https://storage.googleapis.com/laurencemoroney-blog.appspot.com/training_cleaned.csv\n",
            "Resolving storage.googleapis.com (storage.googleapis.com)... 74.125.20.128, 74.125.135.128, 74.125.195.128, ...\n",
            "Connecting to storage.googleapis.com (storage.googleapis.com)|74.125.20.128|:443... connected.\n",
            "HTTP request sent, awaiting response... 200 OK\n",
            "Length: 238942690 (228M) [application/octet-stream]\n",
            "Saving to: ‘/tmp/training_cleaned.csv’\n",
            "\n",
            "/tmp/training_clean 100%[===================>] 227.87M   146MB/s    in 1.6s    \n",
            "\n",
            "2021-07-07 01:18:19 (146 MB/s) - ‘/tmp/training_cleaned.csv’ saved [238942690/238942690]\n",
            "\n"
          ],
          "name": "stdout"
        }
      ]
    },
    {
      "cell_type": "code",
      "metadata": {
        "colab": {
          "base_uri": "https://localhost:8080/"
        },
        "id": "3kxblBUjEUX-",
        "outputId": "889dc8db-265c-4fff-9aa0-12f07bdd984e"
      },
      "source": [
        "print(num_sentences)\n",
        "print(len(corpus))\n",
        "print(corpus[1])\n",
        "\n",
        "# Expected Output:\n",
        "# 1600000\n",
        "# 1600000\n",
        "# [\"is upset that he can't update his Facebook by texting it... and might cry as a result  School today also. Blah!\", 0]"
      ],
      "execution_count": null,
      "outputs": [
        {
          "output_type": "stream",
          "text": [
            "1600000\n",
            "1600000\n",
            "[\"is upset that he can't update his Facebook by texting it... and might cry as a result  School today also. Blah!\", 0]\n"
          ],
          "name": "stdout"
        }
      ]
    },
    {
      "cell_type": "code",
      "metadata": {
        "id": "ohOGz24lsNAD"
      },
      "source": [
        "sentences=[]\n",
        "labels=[]\n",
        "random.shuffle(corpus)\n",
        "for x in range(training_size):\n",
        "    sentences.append(corpus[x][0])\n",
        "    labels.append(corpus[x][1])\n",
        "\n",
        "\n",
        "tokenizer = Tokenizer()\n",
        "tokenizer.fit_on_texts(sentences)\n",
        "\n",
        "word_index = tokenizer.word_index\n",
        "vocab_size=len(word_index)\n",
        "\n",
        "sequences = tokenizer.texts_to_sequences(sentences)\n",
        "padded = pad_sequences(sequences, maxlen=max_length, padding=padding_type, truncating=trunc_type)\n",
        "\n",
        "split = int(test_portion * training_size)\n",
        "\n",
        "test_sequences = padded[0:split]\n",
        "training_sequences = padded[split:training_size]\n",
        "test_labels = labels[0:split]\n",
        "training_labels = labels[split:training_size]"
      ],
      "execution_count": null,
      "outputs": []
    },
    {
      "cell_type": "code",
      "metadata": {
        "colab": {
          "base_uri": "https://localhost:8080/"
        },
        "id": "gIrtRem1En3N",
        "outputId": "d27addbb-053f-4753-abf5-2725ddbf337b"
      },
      "source": [
        "print(vocab_size)\n",
        "print(word_index['i'])\n",
        "# Expected Output\n",
        "# 138858\n",
        "# 1"
      ],
      "execution_count": null,
      "outputs": [
        {
          "output_type": "stream",
          "text": [
            "138525\n",
            "1\n"
          ],
          "name": "stdout"
        }
      ]
    },
    {
      "cell_type": "code",
      "metadata": {
        "id": "C1zdgJkusRh0"
      },
      "source": [
        "# Note this is the 100 dimension version of GloVe from Stanford\n",
        "# I unzipped and hosted it on my site to make this notebook easier\n",
        "# Download glove.6B.100D at https://www.kaggle.com/danielwillgeorge/glove6b100dtxt\n",
        "\n",
        "embeddings_index = {};\n",
        "with open('/content/glove.6B.100d.txt') as f:\n",
        "    for line in f:\n",
        "        values = line.split();\n",
        "        word = values[0];\n",
        "        coefs = np.asarray(values[1:], dtype='float32');\n",
        "        embeddings_index[word] = coefs;\n",
        "\n",
        "embeddings_matrix = np.zeros((vocab_size+1, embedding_dim));\n",
        "for word, i in word_index.items():\n",
        "    embedding_vector = embeddings_index.get(word);\n",
        "    if embedding_vector is not None:\n",
        "        embeddings_matrix[i] = embedding_vector;"
      ],
      "execution_count": null,
      "outputs": []
    },
    {
      "cell_type": "code",
      "metadata": {
        "colab": {
          "base_uri": "https://localhost:8080/"
        },
        "id": "71NLk_lpFLNt",
        "outputId": "95bb3d18-4ed5-4cb2-959d-4bdf81833a02"
      },
      "source": [
        "print(len(embeddings_matrix))\n",
        "# Expected Output\n",
        "# 138859"
      ],
      "execution_count": null,
      "outputs": [
        {
          "output_type": "stream",
          "text": [
            "138526\n"
          ],
          "name": "stdout"
        }
      ]
    },
    {
      "cell_type": "code",
      "metadata": {
        "colab": {
          "base_uri": "https://localhost:8080/"
        },
        "id": "iKKvbuEBOGFz",
        "outputId": "39c45e1b-b5c4-48e0-e628-e1d6e66da3c5"
      },
      "source": [
        "model = tf.keras.Sequential([\n",
        "    tf.keras.layers.Embedding(vocab_size+1, embedding_dim, input_length=max_length, weights=[embeddings_matrix], trainable=False),\n",
        "    tf.keras.layers.Dropout(0.2),\n",
        "    tf.keras.layers.Conv1D(64, 5, activation='relu'),\n",
        "    tf.keras.layers.MaxPooling1D(pool_size=4),\n",
        "    tf.keras.layers.LSTM(64),\n",
        "    tf.keras.layers.Dense(1, activation='sigmoid')\n",
        "])\n",
        "model.compile(loss='binary_crossentropy',optimizer='adam',metrics=['accuracy'])\n",
        "model.summary()\n",
        "\n",
        "num_epochs = 50\n",
        "\n",
        "training_padded = np.array(training_sequences)\n",
        "training_labels = np.array(training_labels)\n",
        "testing_padded = np.array(test_sequences)\n",
        "testing_labels = np.array(test_labels)\n",
        "\n",
        "history = model.fit(training_padded, training_labels, epochs=num_epochs, validation_data=(testing_padded, testing_labels), verbose=2)\n",
        "\n",
        "print(\"Training Complete\")"
      ],
      "execution_count": null,
      "outputs": [
        {
          "output_type": "stream",
          "text": [
            "Model: \"sequential\"\n",
            "_________________________________________________________________\n",
            "Layer (type)                 Output Shape              Param #   \n",
            "=================================================================\n",
            "embedding (Embedding)        (None, 16, 100)           13852600  \n",
            "_________________________________________________________________\n",
            "dropout (Dropout)            (None, 16, 100)           0         \n",
            "_________________________________________________________________\n",
            "conv1d (Conv1D)              (None, 12, 64)            32064     \n",
            "_________________________________________________________________\n",
            "max_pooling1d (MaxPooling1D) (None, 3, 64)             0         \n",
            "_________________________________________________________________\n",
            "lstm (LSTM)                  (None, 64)                33024     \n",
            "_________________________________________________________________\n",
            "dense (Dense)                (None, 1)                 65        \n",
            "=================================================================\n",
            "Total params: 13,917,753\n",
            "Trainable params: 65,153\n",
            "Non-trainable params: 13,852,600\n",
            "_________________________________________________________________\n",
            "Epoch 1/50\n",
            "4500/4500 - 47s - loss: 0.5686 - accuracy: 0.6976 - val_loss: 0.5317 - val_accuracy: 0.7307\n",
            "Epoch 2/50\n",
            "4500/4500 - 13s - loss: 0.5280 - accuracy: 0.7316 - val_loss: 0.5113 - val_accuracy: 0.7456\n",
            "Epoch 3/50\n",
            "4500/4500 - 13s - loss: 0.5114 - accuracy: 0.7425 - val_loss: 0.5067 - val_accuracy: 0.7469\n",
            "Epoch 4/50\n",
            "4500/4500 - 13s - loss: 0.5007 - accuracy: 0.7502 - val_loss: 0.5036 - val_accuracy: 0.7499\n",
            "Epoch 5/50\n",
            "4500/4500 - 13s - loss: 0.4907 - accuracy: 0.7566 - val_loss: 0.5001 - val_accuracy: 0.7519\n",
            "Epoch 6/50\n",
            "4500/4500 - 13s - loss: 0.4844 - accuracy: 0.7609 - val_loss: 0.5019 - val_accuracy: 0.7533\n",
            "Epoch 7/50\n",
            "4500/4500 - 13s - loss: 0.4775 - accuracy: 0.7667 - val_loss: 0.5012 - val_accuracy: 0.7523\n",
            "Epoch 8/50\n",
            "4500/4500 - 13s - loss: 0.4745 - accuracy: 0.7677 - val_loss: 0.5019 - val_accuracy: 0.7567\n",
            "Epoch 9/50\n",
            "4500/4500 - 13s - loss: 0.4674 - accuracy: 0.7732 - val_loss: 0.5014 - val_accuracy: 0.7495\n",
            "Epoch 10/50\n",
            "4500/4500 - 13s - loss: 0.4638 - accuracy: 0.7738 - val_loss: 0.5009 - val_accuracy: 0.7538\n",
            "Epoch 11/50\n",
            "4500/4500 - 13s - loss: 0.4597 - accuracy: 0.7769 - val_loss: 0.5090 - val_accuracy: 0.7536\n",
            "Epoch 12/50\n",
            "4500/4500 - 13s - loss: 0.4566 - accuracy: 0.7776 - val_loss: 0.5004 - val_accuracy: 0.7538\n",
            "Epoch 13/50\n",
            "4500/4500 - 13s - loss: 0.4544 - accuracy: 0.7799 - val_loss: 0.4998 - val_accuracy: 0.7547\n",
            "Epoch 14/50\n",
            "4500/4500 - 13s - loss: 0.4525 - accuracy: 0.7809 - val_loss: 0.5044 - val_accuracy: 0.7547\n",
            "Epoch 15/50\n",
            "4500/4500 - 13s - loss: 0.4495 - accuracy: 0.7833 - val_loss: 0.5090 - val_accuracy: 0.7548\n",
            "Epoch 16/50\n",
            "4500/4500 - 13s - loss: 0.4487 - accuracy: 0.7827 - val_loss: 0.5022 - val_accuracy: 0.7527\n",
            "Epoch 17/50\n",
            "4500/4500 - 13s - loss: 0.4456 - accuracy: 0.7848 - val_loss: 0.5072 - val_accuracy: 0.7490\n",
            "Epoch 18/50\n",
            "4500/4500 - 13s - loss: 0.4440 - accuracy: 0.7861 - val_loss: 0.5085 - val_accuracy: 0.7473\n",
            "Epoch 19/50\n",
            "4500/4500 - 13s - loss: 0.4421 - accuracy: 0.7870 - val_loss: 0.5062 - val_accuracy: 0.7523\n",
            "Epoch 20/50\n",
            "4500/4500 - 13s - loss: 0.4422 - accuracy: 0.7885 - val_loss: 0.5113 - val_accuracy: 0.7472\n",
            "Epoch 21/50\n",
            "4500/4500 - 13s - loss: 0.4394 - accuracy: 0.7896 - val_loss: 0.5227 - val_accuracy: 0.7474\n",
            "Epoch 22/50\n",
            "4500/4500 - 13s - loss: 0.4389 - accuracy: 0.7896 - val_loss: 0.5132 - val_accuracy: 0.7483\n",
            "Epoch 23/50\n",
            "4500/4500 - 13s - loss: 0.4389 - accuracy: 0.7892 - val_loss: 0.5121 - val_accuracy: 0.7508\n",
            "Epoch 24/50\n",
            "4500/4500 - 13s - loss: 0.4370 - accuracy: 0.7910 - val_loss: 0.5105 - val_accuracy: 0.7483\n",
            "Epoch 25/50\n",
            "4500/4500 - 13s - loss: 0.4365 - accuracy: 0.7913 - val_loss: 0.5111 - val_accuracy: 0.7492\n",
            "Epoch 26/50\n",
            "4500/4500 - 13s - loss: 0.4354 - accuracy: 0.7916 - val_loss: 0.5137 - val_accuracy: 0.7471\n",
            "Epoch 27/50\n",
            "4500/4500 - 13s - loss: 0.4346 - accuracy: 0.7916 - val_loss: 0.5115 - val_accuracy: 0.7538\n",
            "Epoch 28/50\n",
            "4500/4500 - 13s - loss: 0.4349 - accuracy: 0.7913 - val_loss: 0.5180 - val_accuracy: 0.7485\n",
            "Epoch 29/50\n",
            "4500/4500 - 13s - loss: 0.4340 - accuracy: 0.7927 - val_loss: 0.5166 - val_accuracy: 0.7460\n",
            "Epoch 30/50\n",
            "4500/4500 - 13s - loss: 0.4325 - accuracy: 0.7936 - val_loss: 0.5133 - val_accuracy: 0.7481\n",
            "Epoch 31/50\n",
            "4500/4500 - 13s - loss: 0.4325 - accuracy: 0.7936 - val_loss: 0.5174 - val_accuracy: 0.7481\n",
            "Epoch 32/50\n",
            "4500/4500 - 13s - loss: 0.4315 - accuracy: 0.7944 - val_loss: 0.5180 - val_accuracy: 0.7469\n",
            "Epoch 33/50\n",
            "4500/4500 - 13s - loss: 0.4324 - accuracy: 0.7937 - val_loss: 0.5152 - val_accuracy: 0.7473\n",
            "Epoch 34/50\n",
            "4500/4500 - 13s - loss: 0.4304 - accuracy: 0.7945 - val_loss: 0.5200 - val_accuracy: 0.7475\n",
            "Epoch 35/50\n",
            "4500/4500 - 13s - loss: 0.4295 - accuracy: 0.7947 - val_loss: 0.5157 - val_accuracy: 0.7459\n",
            "Epoch 36/50\n",
            "4500/4500 - 13s - loss: 0.4299 - accuracy: 0.7952 - val_loss: 0.5186 - val_accuracy: 0.7509\n",
            "Epoch 37/50\n",
            "4500/4500 - 13s - loss: 0.4281 - accuracy: 0.7955 - val_loss: 0.5179 - val_accuracy: 0.7487\n",
            "Epoch 38/50\n",
            "4500/4500 - 13s - loss: 0.4294 - accuracy: 0.7952 - val_loss: 0.5201 - val_accuracy: 0.7479\n",
            "Epoch 39/50\n",
            "4500/4500 - 13s - loss: 0.4277 - accuracy: 0.7970 - val_loss: 0.5167 - val_accuracy: 0.7492\n",
            "Epoch 40/50\n",
            "4500/4500 - 13s - loss: 0.4279 - accuracy: 0.7963 - val_loss: 0.5161 - val_accuracy: 0.7467\n",
            "Epoch 41/50\n",
            "4500/4500 - 13s - loss: 0.4271 - accuracy: 0.7970 - val_loss: 0.5212 - val_accuracy: 0.7471\n",
            "Epoch 42/50\n",
            "4500/4500 - 13s - loss: 0.4290 - accuracy: 0.7940 - val_loss: 0.5219 - val_accuracy: 0.7427\n",
            "Epoch 43/50\n",
            "4500/4500 - 13s - loss: 0.4278 - accuracy: 0.7963 - val_loss: 0.5241 - val_accuracy: 0.7464\n",
            "Epoch 44/50\n",
            "4500/4500 - 13s - loss: 0.4278 - accuracy: 0.7961 - val_loss: 0.5207 - val_accuracy: 0.7483\n",
            "Epoch 45/50\n",
            "4500/4500 - 13s - loss: 0.4271 - accuracy: 0.7966 - val_loss: 0.5187 - val_accuracy: 0.7520\n",
            "Epoch 46/50\n",
            "4500/4500 - 13s - loss: 0.4263 - accuracy: 0.7973 - val_loss: 0.5234 - val_accuracy: 0.7469\n",
            "Epoch 47/50\n",
            "4500/4500 - 13s - loss: 0.4270 - accuracy: 0.7972 - val_loss: 0.5181 - val_accuracy: 0.7500\n",
            "Epoch 48/50\n",
            "4500/4500 - 13s - loss: 0.4263 - accuracy: 0.7975 - val_loss: 0.5194 - val_accuracy: 0.7455\n",
            "Epoch 49/50\n",
            "4500/4500 - 13s - loss: 0.4266 - accuracy: 0.7958 - val_loss: 0.5212 - val_accuracy: 0.7479\n",
            "Epoch 50/50\n",
            "4500/4500 - 13s - loss: 0.4273 - accuracy: 0.7965 - val_loss: 0.5254 - val_accuracy: 0.7437\n",
            "Training Complete\n"
          ],
          "name": "stdout"
        }
      ]
    },
    {
      "cell_type": "code",
      "metadata": {
        "colab": {
          "base_uri": "https://localhost:8080/",
          "height": 609
        },
        "id": "qxju4ItJKO8F",
        "outputId": "a736e110-edea-4093-ef62-77da283a4807"
      },
      "source": [
        "import matplotlib.image  as mpimg\n",
        "import matplotlib.pyplot as plt\n",
        "\n",
        "#-----------------------------------------------------------\n",
        "# Retrieve a list of list results on training and test data\n",
        "# sets for each training epoch\n",
        "#-----------------------------------------------------------\n",
        "acc=history.history['accuracy']\n",
        "val_acc=history.history['val_accuracy']\n",
        "loss=history.history['loss']\n",
        "val_loss=history.history['val_loss']\n",
        "\n",
        "epochs=range(len(acc)) # Get number of epochs\n",
        "\n",
        "#------------------------------------------------\n",
        "# Plot training and validation accuracy per epoch\n",
        "#------------------------------------------------\n",
        "plt.plot(epochs, acc, 'r')\n",
        "plt.plot(epochs, val_acc, 'b')\n",
        "plt.title('Training and validation accuracy')\n",
        "plt.xlabel(\"Epochs\")\n",
        "plt.ylabel(\"Accuracy\")\n",
        "plt.legend([\"Accuracy\", \"Validation Accuracy\"])\n",
        "\n",
        "plt.figure()\n",
        "\n",
        "#------------------------------------------------\n",
        "# Plot training and validation loss per epoch\n",
        "#------------------------------------------------\n",
        "plt.plot(epochs, loss, 'r')\n",
        "plt.plot(epochs, val_loss, 'b')\n",
        "plt.title('Training and validation loss')\n",
        "plt.xlabel(\"Epochs\")\n",
        "plt.ylabel(\"Loss\")\n",
        "plt.legend([\"Loss\", \"Validation Loss\"])\n",
        "\n",
        "plt.figure()\n",
        "\n",
        "\n",
        "# Expected Output\n",
        "# A chart where the validation loss does not increase sharply!"
      ],
      "execution_count": null,
      "outputs": [
        {
          "output_type": "execute_result",
          "data": {
            "text/plain": [
              "<Figure size 432x288 with 0 Axes>"
            ]
          },
          "metadata": {
            "tags": []
          },
          "execution_count": 11
        },
        {
          "output_type": "display_data",
          "data": {
            "image/png": "[encoded data removed]",
            "text/plain": [
              "<Figure size 432x288 with 1 Axes>"
            ]
          },
          "metadata": {
            "tags": [],
            "needs_background": "light"
          }
        },
        {
          "output_type": "display_data",
          "data": {
            "image/png": "[encoded data removed]",
            "text/plain": [
              "<Figure size 432x288 with 1 Axes>"
            ]
          },
          "metadata": {
            "tags": [],
            "needs_background": "light"
          }
        },
        {
          "output_type": "display_data",
          "data": {
            "text/plain": [
              "<Figure size 432x288 with 0 Axes>"
            ]
          },
          "metadata": {
            "tags": []
          }
        }
      ]
    }
  ]
}